{
 "cells": [
  {
   "cell_type": "code",
   "execution_count": 13,
   "metadata": {},
   "outputs": [
    {
     "name": "stdout",
     "output_type": "stream",
     "text": [
      "\u001b[32m\u001b[1m  Updating\u001b[22m\u001b[39m registry at `~/.julia/registries/General`\n",
      "\u001b[32m\u001b[1m  Updating\u001b[22m\u001b[39m git-repo `https://github.com/JuliaRegistries/General.git`\n",
      "\u001b[2K\u001b[?25h[1mFetching:\u001b[22m\u001b[39m [========================================>]  99.9 %0.0 %]  4.4 %\u001b[36m\u001b[1mFetching:\u001b[22m\u001b[39m [=====>                                   ]  12.4 %\u001b[36m\u001b[1mFetching:\u001b[22m\u001b[39m [=======>                                 ]  15.1 %                          ]  33.6 %\u001b[36m\u001b[1mFetching:\u001b[22m\u001b[39m [===============>                         ]  35.0 %>                    ]  47.6 %\u001b[36m\u001b[1mFetching:\u001b[22m\u001b[39m [=====================>                   ]  50.3 %>              ]  62.8 %\u001b[36m\u001b[1mFetching:\u001b[22m\u001b[39m [=============================>           ]  71.1 %\u001b[36m\u001b[1mFetching:\u001b[22m\u001b[39m [==============================>          ]  73.8 %\u001b[36m\u001b[1mFetching:\u001b[22m\u001b[39m [===============================>         ]  77.2 %  ]  92.7 %\u001b[32m\u001b[1m Resolving\u001b[22m\u001b[39m package versions...\n",
      "\u001b[32m\u001b[1m Installed\u001b[22m\u001b[39m CodeTracking ─────── v1.0.5\n",
      "\u001b[32m\u001b[1m Installed\u001b[22m\u001b[39m OrderedCollections ─ v1.4.0\n",
      "\u001b[32m\u001b[1m Installed\u001b[22m\u001b[39m LoweredCodeUtils ─── v1.2.9\n",
      "\u001b[32m\u001b[1m Installed\u001b[22m\u001b[39m Requires ─────────── v1.1.2\n",
      "\u001b[32m\u001b[1m Installed\u001b[22m\u001b[39m JuliaInterpreter ─── v0.8.9\n",
      "\u001b[32m\u001b[1m Installed\u001b[22m\u001b[39m Revise ───────────── v3.1.14\n",
      "\u001b[32m\u001b[1m  Updating\u001b[22m\u001b[39m `~/Dropbox/My Mac (Jamies-Air-2)/Documents/GitHub/HyperCommDetect/HypergraphDetectability/Project.toml`\n",
      " \u001b[90m [295af30f]\u001b[39m\u001b[92m + Revise v3.1.14\u001b[39m\n",
      "\u001b[32m\u001b[1m  Updating\u001b[22m\u001b[39m `~/Dropbox/My Mac (Jamies-Air-2)/Documents/GitHub/HyperCommDetect/HypergraphDetectability/Manifest.toml`\n",
      " \u001b[90m [da1fd8a2]\u001b[39m\u001b[92m + CodeTracking v1.0.5\u001b[39m\n",
      " \u001b[90m [aa1ae85d]\u001b[39m\u001b[92m + JuliaInterpreter v0.8.9\u001b[39m\n",
      " \u001b[90m [6f1432cf]\u001b[39m\u001b[92m + LoweredCodeUtils v1.2.9\u001b[39m\n",
      " \u001b[90m [bac558e1]\u001b[39m\u001b[92m + OrderedCollections v1.4.0\u001b[39m\n",
      " \u001b[90m [ae029012]\u001b[39m\u001b[92m + Requires v1.1.2\u001b[39m\n",
      " \u001b[90m [295af30f]\u001b[39m\u001b[92m + Revise v3.1.14\u001b[39m\n",
      " \u001b[90m [2a0f44e3]\u001b[39m\u001b[92m + Base64 \u001b[39m\n",
      " \u001b[90m [ade2ca70]\u001b[39m\u001b[92m + Dates \u001b[39m\n",
      " \u001b[90m [8ba89e20]\u001b[39m\u001b[92m + Distributed \u001b[39m\n",
      " \u001b[90m [7b1f6079]\u001b[39m\u001b[92m + FileWatching \u001b[39m\n",
      " \u001b[90m [b77e0a4c]\u001b[39m\u001b[92m + InteractiveUtils \u001b[39m\n",
      " \u001b[90m [76f85450]\u001b[39m\u001b[92m + LibGit2 \u001b[39m\n",
      " \u001b[90m [8f399da3]\u001b[39m\u001b[92m + Libdl \u001b[39m\n",
      " \u001b[90m [37e2e46d]\u001b[39m\u001b[92m + LinearAlgebra \u001b[39m\n",
      " \u001b[90m [d6f4376e]\u001b[39m\u001b[92m + Markdown \u001b[39m\n",
      " \u001b[90m [44cfe95a]\u001b[39m\u001b[92m + Pkg \u001b[39m\n",
      " \u001b[90m [de0858da]\u001b[39m\u001b[92m + Printf \u001b[39m\n",
      " \u001b[90m [3fa0cd96]\u001b[39m\u001b[92m + REPL \u001b[39m\n",
      " \u001b[90m [9a3f8284]\u001b[39m\u001b[92m + Random \u001b[39m\n",
      " \u001b[90m [ea8e919c]\u001b[39m\u001b[92m + SHA \u001b[39m\n",
      " \u001b[90m [9e88b42a]\u001b[39m\u001b[92m + Serialization \u001b[39m\n",
      " \u001b[90m [6462fe0b]\u001b[39m\u001b[92m + Sockets \u001b[39m\n",
      " \u001b[90m [cf7118a7]\u001b[39m\u001b[92m + UUIDs \u001b[39m\n",
      " \u001b[90m [4ec0a83e]\u001b[39m\u001b[92m + Unicode \u001b[39m\n"
     ]
    },
    {
     "name": "stderr",
     "output_type": "stream",
     "text": [
      "┌ Info: Precompiling Revise [295af30f-e4ad-537b-8983-00126c2a3abe]\n",
      "└ @ Base loading.jl:1192\n"
     ]
    },
    {
     "ename": "ArgumentError",
     "evalue": "ArgumentError: Package HypergraphModularity not found in current path:\n- Run `import Pkg; Pkg.add(\"HypergraphModularity\")` to install the HypergraphModularity package.\n",
     "output_type": "error",
     "traceback": [
      "ArgumentError: Package HypergraphModularity not found in current path:\n- Run `import Pkg; Pkg.add(\"HypergraphModularity\")` to install the HypergraphModularity package.\n",
      "",
      "Stacktrace:",
      " [1] require(::Module, ::Symbol) at ./loading.jl:823",
      " [2] top-level scope at In[13]:5"
     ]
    }
   ],
   "source": [
    "using Pkg\n",
    "Pkg.add(\"Revise\")\n",
    "using Revise\n",
    "Pkg.activate(\".\")\n",
    "using HypergraphModularity\n",
    "\n",
    "using Plots\n",
    "using TimerOutputs\n",
    "using StatsBase\n",
    "using SparseArrays\n",
    "using Plots\n",
    "using Parameters\n",
    "using LinearAlgebra\n",
    "using Clustering\n",
    "using DataFrames"
   ]
  },
  {
   "cell_type": "code",
   "execution_count": 2,
   "metadata": {},
   "outputs": [
    {
     "data": {
      "text/plain": [
       "detectabilityData (generic function with 1 method)"
      ]
     },
     "execution_count": 2,
     "metadata": {},
     "output_type": "execute_result"
    }
   ],
   "source": [
    "function detectabilityData(n, c₂, c₃, p₂, p₃)\n",
    "    \"\"\"\n",
    "    construct a hypergraph of two clusters in which: \n",
    "    - n is the number of nodes (should be even)\n",
    "    - c₂ is the mean number of 2-edges attached to a node\n",
    "    - c₃ is the mean number of 3-edges attached to a node\n",
    "    - p₂ is the proportion of 2-edges within clusters\n",
    "    - p₃ is the proportion of 3-edges within clusters\n",
    "    \n",
    "    p₂ = 0 and p₃ = 1 for example, means that all 2-edges are between \n",
    "    cluster and all 3-edges are within cluster. \n",
    "    \"\"\"\n",
    "    n_group = n ÷ 2\n",
    "    \n",
    "    # numbers of edges of sizes 2 and 3\n",
    "    m₂ = c₂*n/2\n",
    "    m₃ = c₃*n/3\n",
    "    \n",
    "    # initialize edge dict\n",
    "    E = Dict(k => Dict() for k ∈ 1:3)\n",
    "    \n",
    "    # assign 2-edges\n",
    "    for i ∈ 1:m₂\n",
    "        # within-cluster 2-edges\n",
    "        if rand() < p₂\n",
    "            s, t = 0, 0\n",
    "            while s == t\n",
    "                s, t = rand(1:n_group), rand(1:n_group)\n",
    "            end\n",
    "            if rand() < 0.5\n",
    "                s += n_group\n",
    "                t += n_group\n",
    "            end\n",
    "        # between-cluster 2-edges\n",
    "        else\n",
    "            s = rand(1:n_group)\n",
    "            t = rand(1:n_group) + n_group\n",
    "        end\n",
    "        s, t = sort([s, t])\n",
    "        E[2][[s,t]] = get(E[2], [s,t], 0) + 1\n",
    "    end\n",
    "    \n",
    "    # assign 3-edges\n",
    "    \n",
    "    for i ∈ 1:m₃\n",
    "        # within-cluster 3-edges\n",
    "        if rand() < p₃\n",
    "            s, t, v = 0, 0, 0\n",
    "            while length(unique([s, t, v])) < 3\n",
    "                s, t, v = rand(1:n_group), rand(1:n_group), rand(1:n_group)\n",
    "            end\n",
    "            if rand() < 0.5\n",
    "                s += n_group\n",
    "                t += n_group\n",
    "                v += n_group\n",
    "            end\n",
    "        # between-cluster 2-edges\n",
    "        else\n",
    "            s, t, v = 0, 0, 0\n",
    "            while length(unique([s, t, v])) < 3\n",
    "                s = rand(1:n_group)\n",
    "                t = rand(1:n_group)\n",
    "                v = rand(1:n_group) + n_group\n",
    "            end\n",
    "            if rand() < 0.5\n",
    "                s += n_group\n",
    "                t += n_group\n",
    "                v -= n_group\n",
    "            end\n",
    "            s, t, v = sort([s, t, v])\n",
    "        end\n",
    "        E[3][[s, t, v]] = get(E[3], [s, t, v], 0) + 1\n",
    "    end\n",
    "    H = hypergraph(N = 1:n, E = E)\n",
    "    HypergraphModularity.computeDegrees!(H)\n",
    "    return(H)\n",
    "end"
   ]
  },
  {
   "cell_type": "code",
   "execution_count": 3,
   "metadata": {},
   "outputs": [
    {
     "data": {
      "text/plain": [
       "detectabilityExperiment (generic function with 1 method)"
      ]
     },
     "execution_count": 3,
     "metadata": {},
     "output_type": "execute_result"
    }
   ],
   "source": [
    "function detectabilityExperiment(n, c₂, c₃, p₂, p₃; n_rounds = 10)\n",
    "    \n",
    "    kmax = 3\n",
    "    weighted=false\n",
    "    Ω = 0\n",
    "    \n",
    "    Z = vcat(repeat([1], n÷2), repeat([2], n÷2))\n",
    "    H = detectabilityData(n, c₂, c₃, p₂, p₃)\n",
    "        \n",
    "    Z_ = copy(Z)\n",
    "    \n",
    "    γ̂ = computeDyadicResolutionParameter(H, Z_)\n",
    "    ω_in, ω_out = computeDyadicResolutionParameter(H, Z_; mode=\"ω\", weighted=weighted, pseudocount = 1.0)\n",
    "    \n",
    "    best_L = -Inf\n",
    "    best_identified = 0\n",
    "    best_dyadic_group_num = n\n",
    "    \n",
    "    for i in 1:n_rounds\n",
    "        \n",
    "        γ̂ = computeDyadicResolutionParameter(H, Z_)\n",
    "        Z_ = CliqueExpansionModularity(H, γ̂, weighted, true, false)\n",
    "        \n",
    "        ω_in, ω_out = computeDyadicResolutionParameter(H, Z_; mode=\"ω\", weighted=weighted, pseudocount = 0.0)\n",
    "        L_D = dyadicLogLikelihood(H, Z_, ω_in, ω_out; weighted=weighted)\n",
    "        \n",
    "        k = length(unique(Z_))\n",
    "        \n",
    "        L_D -= n*log(k)\n",
    "        \n",
    "        if L_D > best_L\n",
    "            best_L = L_D\n",
    "            best_identified = randindex(Z, Z_)[1]\n",
    "            best_dyadic_group_num = length(unique(Z_))\n",
    "        end\n",
    "    end\n",
    "    \n",
    "    best_dyadic_score = best_identified\n",
    "    \n",
    "    α0 = zeros(2*kmax)\n",
    "    α̂ = α0\n",
    "    \n",
    "    Z_ = copy(Z)\n",
    "    \n",
    "    Ω = estimateΩEmpirically(H, Z_; aggregator = p -> [length(p) == 1, sum(p)], pseudocount = 1.0)\n",
    "    \n",
    "    best_L = -Inf\n",
    "    best_identified = 0\n",
    "    best_polyadic_group_num = n\n",
    "    \n",
    "    for i in 1:n_rounds\n",
    "        Ω = estimateΩEmpirically(H, Z_; aggregator = p -> [length(p) == 1, sum(p)], pseudocount = 0.0)        \n",
    "        Z_ = SuperNode_PPLouvain(H, Ω; α = α̂, verbose = false, Z0 = collect(1:n), clusterpenalty=n)\n",
    "        L_H = modularity(H, Z_, Ω; α = α̂)\n",
    "        \n",
    "        k = length(unique(Z_))\n",
    "        \n",
    "        L_H -= n*log(k)\n",
    "        \n",
    "        if L_H > best_L\n",
    "            best_L = L_H\n",
    "            best_identified = randindex(Z, Z_)[1]\n",
    "            best_polyadic_group_num = length(unique(Z_))\n",
    "        end\n",
    "    end\n",
    "    \n",
    "    best_hypergraph_score = best_identified\n",
    "    \n",
    "    return(best_dyadic_score, best_dyadic_group_num, best_hypergraph_score, best_polyadic_group_num)\n",
    "end"
   ]
  },
  {
   "cell_type": "code",
   "execution_count": 4,
   "metadata": {},
   "outputs": [
    {
     "ename": "UndefVarError",
     "evalue": "UndefVarError: hypergraph not defined",
     "output_type": "error",
     "traceback": [
      "UndefVarError: hypergraph not defined",
      "",
      "Stacktrace:",
      " [1] detectabilityData(::Int64, ::Int64, ::Int64, ::Float64, ::Float64) at ./In[2]:74",
      " [2] top-level scope at In[4]:1"
     ]
    }
   ],
   "source": [
    "H = detectabilityData(100, 5, 5,0.2, 0.4)\n",
    "\n",
    "evalSums(repeat([1], 100), H)[3]"
   ]
  },
  {
   "cell_type": "code",
   "execution_count": 5,
   "metadata": {},
   "outputs": [
    {
     "ename": "UndefVarError",
     "evalue": "UndefVarError: DataFrame not defined",
     "output_type": "error",
     "traceback": [
      "UndefVarError: DataFrame not defined",
      "",
      "Stacktrace:",
      " [1] (::getfield(Main, Symbol(\"##10#11\")))(::Int64) at ./none:0",
      " [2] iterate at ./generator.jl:47 [inlined]",
      " [3] collect(::Base.Generator{UnitRange{Int64},getfield(Main, Symbol(\"##10#11\"))}) at ./array.jl:619",
      " [4] top-level scope at In[5]:6"
     ]
    }
   ],
   "source": [
    "# main experiment\n",
    "\n",
    "c₂, c₃ = 5, 5\n",
    "\n",
    "n_reps = 20\n",
    "\n",
    "DFs = [DataFrame() for i in 1:n_reps]\n",
    "\n",
    "Threads.@threads for rep ∈ 1:n_reps\n",
    "    P₂, P₃, D, H, K_d, K_h = zeros(0), zeros(0), zeros(0), zeros(0), zeros(0), zeros(0)\n",
    "    for p₂ ∈ 0:0.01:1, p₃ ∈ 0:0.01:1\n",
    "        d, k_d, h, k_h = detectabilityExperiment(500, c₂, c₃, p₂, p₃)\n",
    "        append!(P₂, p₂)\n",
    "        append!(P₃, p₃)\n",
    "        append!(D, d)\n",
    "        append!(H, h)\n",
    "        append!(K_d, k_d)\n",
    "        append!(K_h, k_h)\n",
    "    end\n",
    "    DFs[rep] = DataFrame(\n",
    "        P₂ = P₂, \n",
    "        P₃ = P₃, \n",
    "        D = D, \n",
    "        H = H, \n",
    "        K_d = K_d, \n",
    "        K_h = K_h\n",
    "    )\n",
    "end\n",
    "\n",
    "# for p₂ ∈ 0:0.02:1, p₃ ∈ 0:0.02:1\n",
    "#     for rep ∈ 1:10\n",
    "#         d, k_d, h, k_h = detectabilityExperiment(500, c₂, c₃, p₂, p₃)\n",
    "#         append!(P₂, p₂)\n",
    "#         append!(P₃, p₃)\n",
    "#         append!(D, d)\n",
    "#         append!(H, h)\n",
    "#         append!(K_d, k_d)\n",
    "#         append!(K_h, k_h)\n",
    "#     end\n",
    "# end"
   ]
  },
  {
   "cell_type": "code",
   "execution_count": 6,
   "metadata": {},
   "outputs": [
    {
     "ename": "UndefVarError",
     "evalue": "UndefVarError: DataFrame not defined",
     "output_type": "error",
     "traceback": [
      "UndefVarError: DataFrame not defined",
      "",
      "Stacktrace:",
      " [1] top-level scope at In[6]:1"
     ]
    }
   ],
   "source": [
    "DF = DataFrame()\n",
    "for df in DFs\n",
    "    DF = vcat(DF, df)\n",
    "end"
   ]
  },
  {
   "cell_type": "code",
   "execution_count": 7,
   "metadata": {},
   "outputs": [],
   "source": [
    "# # # troubleshooting\n",
    "\n",
    "# c₂, c₃ = 5, 5\n",
    "# P₂, P₃, D, H, K_d, K_h = zeros(0), zeros(0), zeros(0), zeros(0), zeros(0), zeros(0)\n",
    "\n",
    "# for p₂ ∈ 0:0.1:1, p₃ ∈ 0:0.1:1, rep ∈ 1:1\n",
    "#     d, k_d, h, k_h = detectabilityExperiment(500, c₂, c₃, p₂, p₃)\n",
    "#     append!(P₂, p₂)\n",
    "#     append!(P₃, p₃)\n",
    "#     append!(D, d)\n",
    "#     append!(H, h)\n",
    "#     append!(K_d, k_d)\n",
    "#     append!(K_h, k_h)\n",
    "# end"
   ]
  },
  {
   "cell_type": "code",
   "execution_count": 8,
   "metadata": {},
   "outputs": [
    {
     "ename": "ArgumentError",
     "evalue": "ArgumentError: Package RCall not found in current path:\n- Run `import Pkg; Pkg.add(\"RCall\")` to install the RCall package.\n",
     "output_type": "error",
     "traceback": [
      "ArgumentError: Package RCall not found in current path:\n- Run `import Pkg; Pkg.add(\"RCall\")` to install the RCall package.\n",
      "",
      "Stacktrace:",
      " [1] require(::Module, ::Symbol) at ./loading.jl:823",
      " [2] top-level scope at In[8]:1"
     ]
    }
   ],
   "source": [
    "using RCall\n",
    "RCall.rcall_p(:options, rcalljl_options=Dict(:width => 450, :height => 200))\n",
    "R\"\"\"\n",
    "library(tidyverse)\n",
    "library(viridis)\n",
    "\"\"\""
   ]
  },
  {
   "cell_type": "code",
   "execution_count": 9,
   "metadata": {},
   "outputs": [
    {
     "ename": "LoadError",
     "evalue": "UndefVarError: @R_str not defined",
     "output_type": "error",
     "traceback": [
      "UndefVarError: @R_str not defined",
      ""
     ]
    }
   ],
   "source": [
    "c₂, c₃ = 5, 5\n",
    "R\"\"\"\n",
    "df <- read_csv(\"fig/detectability_throughput.csv\")\n",
    "# df <- tibble($DF)\n",
    "\n",
    "# df %>%     write_csv(\"fig/detectability_throughput.csv\")\n",
    "\"\"\""
   ]
  },
  {
   "cell_type": "code",
   "execution_count": 10,
   "metadata": {},
   "outputs": [
    {
     "ename": "LoadError",
     "evalue": "UndefVarError: @R_str not defined",
     "output_type": "error",
     "traceback": [
      "UndefVarError: @R_str not defined",
      ""
     ]
    }
   ],
   "source": [
    "\n",
    "R\"\"\"\n",
    "df <- df %>% \n",
    "    rename(P_2 = `P₂`, P_3 = `P₃`) %>%  \n",
    "    mutate(D = ifelse((P_2 == 1)*(P_3 == 1) == 1, 1, D)) %>% \n",
    "    gather(key = method, value = ARI, -P_2, -P_3, -K_d, - K_h) %>% \n",
    "    group_by(P_2, P_3, method) %>% \n",
    "    summarise(ARI = mean(ARI)) %>% \n",
    "    mutate(method = ifelse(method == \"D\", \"Graph\", \"Hypergraph\")) %>%\n",
    "    group_by(method, P_2, P_3) \n",
    "\n",
    " df <- df %>% mutate(q_3 = (sqrt(2*($c₂ + 2*$c₃)) - (2*P_2-1)*$c₂)/(3*$c₃) + 1/3,\n",
    "                    q_3 = ifelse(method == \"Graph\", q_3, NA),\n",
    "                    q_3 = ifelse(q_3 > 1, NA, q_3),\n",
    "                    r_3 = sqrt(4*$c₃)/(4*$c₃) + 1/3, \n",
    "                    r_3 = ifelse(method == \"Hypergraph\", r_3, NA),\n",
    "                    r_2 = 1/sqrt(2*$c₂) + 1/2,\n",
    "                    r_2 = ifelse(method == \"Hypergraph\", r_2, NA))\n",
    "\n",
    "df <- df %>% \n",
    "    mutate(method = case_when(method == \"Hypergraph\" ~ \"Hypergraph AON MLL\", \n",
    "                              method == \"Graph\"     ~ \"Graph MLL\"))\n",
    "\n",
    "\n",
    "labels <- data_frame(\n",
    "    x = c(0.35, 0.75, 0.2),\n",
    "    y = c(0.5, 0.2, 0.8),\n",
    "    lab = c(\"paste(italic(p[3]), '*')\", \"paste(italic(p[2]), '*')\", \"\"),\n",
    "    method = c(\"Hypergraph AON MLL\", \"Hypergraph AON MLL\", \"Graph MLL\")\n",
    ")\n",
    "\n",
    "df %>% \n",
    "    ggplot() + \n",
    "    facet_wrap(~method) + \n",
    "    geom_raster(aes(x = P_2, y = P_3, fill = ARI)) + \n",
    "    geom_line(aes(x = P_2, y = q_3), color = \"white\", linetype = \"dashed\") + \n",
    "    geom_hline(aes(yintercept = r_3), color = \"white\", linetype = \"dashed\") + \n",
    "    geom_vline(aes(xintercept = r_2), color = \"white\", linetype = \"dashed\") + \n",
    "    theme_bw() + \n",
    "    scale_fill_viridis(option = \"inferno\") + \n",
    "    scale_x_continuous(expand = c(0, 0)) + \n",
    "    scale_y_continuous(expand = c(0, 0)) + \n",
    "    theme(strip.background = element_blank(),\n",
    "          panel.spacing.x = unit(8, \"mm\"),\n",
    "          strip.text = element_text(size = 10)) +\n",
    "    xlab(expression(italic(p)[2])) + \n",
    "    ylab(expression(italic(p)[3])) + \n",
    "    coord_fixed() + \n",
    "    geom_text(aes(x = x, y = y, label = lab), data = labels, color = \"white\", parse = T)\n",
    "\"\"\""
   ]
  },
  {
   "cell_type": "code",
   "execution_count": 11,
   "metadata": {},
   "outputs": [
    {
     "ename": "LoadError",
     "evalue": "UndefVarError: @R_str not defined",
     "output_type": "error",
     "traceback": [
      "UndefVarError: @R_str not defined",
      ""
     ]
    }
   ],
   "source": [
    "R\"\"\"\n",
    "ggsave(\"fig/detectability_2.png\", width = 5.5, height = 2.7)\n",
    "\"\"\""
   ]
  },
  {
   "cell_type": "code",
   "execution_count": null,
   "metadata": {},
   "outputs": [],
   "source": []
  }
 ],
 "metadata": {
  "kernelspec": {
   "display_name": "Julia 1.0.5",
   "language": "julia",
   "name": "julia-1.0"
  },
  "language_info": {
   "file_extension": ".jl",
   "mimetype": "application/julia",
   "name": "julia",
   "version": "1.0.5"
  }
 },
 "nbformat": 4,
 "nbformat_minor": 4
}
