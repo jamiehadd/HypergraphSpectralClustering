{
 "cells": [
  {
   "cell_type": "code",
   "execution_count": 2,
   "metadata": {},
   "outputs": [
    {
     "name": "stderr",
     "output_type": "stream",
     "text": [
      "┌ Info: Precompiling HypergraphDetectability [2dbe4ab3-0c84-4f8d-86d2-f64d6d698dce]\n",
      "└ @ Base loading.jl:1260\n",
      "┌ Warning: Package HypergraphDetectability does not have Parameters in its dependencies:\n",
      "│ - If you have HypergraphDetectability checked out for development and have\n",
      "│   added Parameters as a dependency but haven't updated your primary\n",
      "│   environment's manifest file, try `Pkg.resolve()`.\n",
      "│ - Otherwise you may need to report an issue with HypergraphDetectability\n",
      "└ Loading Parameters into HypergraphDetectability from project dependency, future warnings for HypergraphDetectability are suppressed.\n",
      "WARNING: Method definition countEdges(HypergraphDetectability.hypergraph) in module HypergraphDetectability at /home/phil/HyperCommDetect/HypergraphDetectability/src/hypergraph.jl:45 overwritten at /home/phil/HyperCommDetect/HypergraphDetectability/src/hypergraph.jl:57.\n",
      "  ** incremental compilation may be fatally broken for this module **\n",
      "\n"
     ]
    }
   ],
   "source": [
    "using Revise\n",
    "using HypergraphDetectability\n",
    "using SparseArrays\n",
    "using LinearAlgebra\n",
    "using Arpack\n",
    "using DataFrames\n",
    "using RCall"
   ]
  },
  {
   "cell_type": "code",
   "execution_count": 18,
   "metadata": {},
   "outputs": [
    {
     "data": {
      "text/plain": [
       "experiment (generic function with 1 method)"
      ]
     },
     "execution_count": 18,
     "metadata": {},
     "output_type": "execute_result"
    }
   ],
   "source": [
    "function experiment(n, c₂, c₃; grid₂ = 0.0:0.1:1.0, grid₃ = 0:0.1:1.0, reps = 1)\n",
    "    DF = DataFrames.DataFrame()\n",
    "    for p₂ ∈ grid₂, p₃ ∈ grid₃, rep ∈ 1:reps\n",
    "\n",
    "        H = detectabilityData(n, c₂, c₃, p₂, p₃)\n",
    "\n",
    "        try\n",
    "            B_ = HypergraphDetectability.reducedNonBacktrackingMatrix(H);\n",
    "            E = Arpack.eigs(B_; nev = 3);\n",
    "\n",
    "            gap = abs(E[1][2]) - abs(E[1][3])\n",
    "\n",
    "            df = DataFrames.DataFrame(\n",
    "                p₂ = p₂, \n",
    "                p₃ = p₃, \n",
    "                e2 = E[1][2],\n",
    "                e3 = E[1][3]\n",
    "            )\n",
    "            DF = vcat(DF, df)\n",
    "        catch e\n",
    "            nothing\n",
    "        end\n",
    "    end\n",
    "    return DF\n",
    "end"
   ]
  },
  {
   "cell_type": "code",
   "execution_count": null,
   "metadata": {},
   "outputs": [],
   "source": [
    "# eventually we should try multithreading, but weirdly it doesn't seem\n",
    "# to be working here, some troubleshooting needed. \n",
    "\n",
    "reps = 20\n",
    "\n",
    "DFs = [DataFrame() for i in 1:reps]\n",
    "\n",
    "n  = 500\n",
    "c₂ = 5\n",
    "c₃ = 5\n",
    "\n",
    "for rep in 1:reps\n",
    "    df = experiment(n, c₂, c₃; grid₂ = 0.0:0.01:1.0, grid₃ = 0:0.01:1.0);\n",
    "    df.thread = Threads.threadid()\n",
    "    DFs[rep] = df\n",
    "end"
   ]
  },
  {
   "cell_type": "code",
   "execution_count": 77,
   "metadata": {},
   "outputs": [],
   "source": [
    "DF = DataFrame()\n",
    "for df in DFs\n",
    "    DF = vcat(DF, df)\n",
    "end"
   ]
  },
  {
   "cell_type": "code",
   "execution_count": 78,
   "metadata": {},
   "outputs": [
    {
     "name": "stderr",
     "output_type": "stream",
     "text": [
      "┌ Warning: `setproperty!(df::DataFrame, col_ind::Symbol, v)` is deprecated, use `df[!, col_ind] .= v` instead.\n",
      "│   caller = top-level scope at In[78]:1\n",
      "└ @ Core In[78]:1\n"
     ]
    },
    {
     "data": {
      "text/html": [
       "<table class=\"data-frame\"><thead><tr><th></th><th>p₂</th><th>p₃</th><th>e2</th><th>e3</th><th>thread</th><th>threshold</th><th>real_part</th></tr><tr><th></th><th>Float64</th><th>Float64</th><th>Complex…</th><th>Complex…</th><th>Int64</th><th>Float64</th><th>Float64</th></tr></thead><tbody><p>188,217 rows × 7 columns</p><tr><th>1</th><td>0.0</td><td>0.01</td><td>-8.34339+0.0im</td><td>-3.30065+2.20607im</td><td>1</td><td>3.87298</td><td>-8.34339</td></tr><tr><th>2</th><td>0.0</td><td>0.02</td><td>-8.06422+0.0im</td><td>-0.482757+3.98571im</td><td>1</td><td>3.87298</td><td>-8.06422</td></tr><tr><th>3</th><td>0.0</td><td>0.03</td><td>-7.75181+0.0im</td><td>-3.11708+2.47119im</td><td>1</td><td>3.87298</td><td>-7.75181</td></tr><tr><th>4</th><td>0.0</td><td>0.04</td><td>-7.72631+0.0im</td><td>3.71019+1.46315im</td><td>1</td><td>3.87298</td><td>-7.72631</td></tr><tr><th>5</th><td>0.0</td><td>0.05</td><td>-7.22574+0.0im</td><td>-3.48928+1.75873im</td><td>1</td><td>3.87298</td><td>-7.22574</td></tr><tr><th>6</th><td>0.0</td><td>0.06</td><td>-7.61253+0.0im</td><td>-3.97459+0.0807906im</td><td>1</td><td>3.87298</td><td>-7.61253</td></tr><tr><th>7</th><td>0.0</td><td>0.08</td><td>-7.29332+0.0im</td><td>1.28258+3.71677im</td><td>1</td><td>3.87298</td><td>-7.29332</td></tr><tr><th>8</th><td>0.0</td><td>0.09</td><td>-6.87235+0.0im</td><td>-1.45968+3.68749im</td><td>1</td><td>3.87298</td><td>-6.87235</td></tr><tr><th>9</th><td>0.0</td><td>0.1</td><td>-6.81732+0.0im</td><td>3.77966+0.921511im</td><td>1</td><td>3.87298</td><td>-6.81732</td></tr><tr><th>10</th><td>0.0</td><td>0.11</td><td>-6.52753+0.0im</td><td>3.93723+0.0im</td><td>1</td><td>3.87298</td><td>-6.52753</td></tr><tr><th>11</th><td>0.0</td><td>0.12</td><td>-6.53634+0.0im</td><td>3.71434+1.23413im</td><td>1</td><td>3.87298</td><td>-6.53634</td></tr><tr><th>12</th><td>0.0</td><td>0.13</td><td>-6.3789+0.0im</td><td>-3.62477+1.60653im</td><td>1</td><td>3.87298</td><td>-6.3789</td></tr><tr><th>13</th><td>0.0</td><td>0.14</td><td>-6.41984+0.0im</td><td>-3.88565+1.11472im</td><td>1</td><td>3.87298</td><td>-6.41984</td></tr><tr><th>14</th><td>0.0</td><td>0.15</td><td>-6.06755+0.0im</td><td>-2.40548+3.1795im</td><td>1</td><td>3.87298</td><td>-6.06755</td></tr><tr><th>15</th><td>0.0</td><td>0.16</td><td>-5.86713+0.0im</td><td>0.670394+3.87971im</td><td>1</td><td>3.87298</td><td>-5.86713</td></tr><tr><th>16</th><td>0.0</td><td>0.17</td><td>-5.93864+0.0im</td><td>-2.85676+2.75824im</td><td>1</td><td>3.87298</td><td>-5.93864</td></tr><tr><th>17</th><td>0.0</td><td>0.19</td><td>-5.85061+0.0im</td><td>-2.68268+2.96181im</td><td>1</td><td>3.87298</td><td>-5.85061</td></tr><tr><th>18</th><td>0.0</td><td>0.2</td><td>-6.14409+0.0im</td><td>-3.394+1.99847im</td><td>1</td><td>3.87298</td><td>-6.14409</td></tr><tr><th>19</th><td>0.0</td><td>0.21</td><td>-5.65609+0.0im</td><td>-3.83667+0.963435im</td><td>1</td><td>3.87298</td><td>-5.65609</td></tr><tr><th>20</th><td>0.0</td><td>0.22</td><td>-5.69836+0.0im</td><td>-3.57228+1.68601im</td><td>1</td><td>3.87298</td><td>-5.69836</td></tr><tr><th>21</th><td>0.0</td><td>0.23</td><td>-5.27933+0.0im</td><td>-0.907932+3.85302im</td><td>1</td><td>3.87298</td><td>-5.27933</td></tr><tr><th>22</th><td>0.0</td><td>0.24</td><td>-5.04535+0.0im</td><td>2.75549+2.82239im</td><td>1</td><td>3.87298</td><td>-5.04535</td></tr><tr><th>23</th><td>0.0</td><td>0.26</td><td>-4.91443+0.0im</td><td>-3.88584+0.730194im</td><td>1</td><td>3.87298</td><td>-4.91443</td></tr><tr><th>24</th><td>0.0</td><td>0.27</td><td>-5.22552+0.0im</td><td>2.90266+2.65785im</td><td>1</td><td>3.87298</td><td>-5.22552</td></tr><tr><th>25</th><td>0.0</td><td>0.28</td><td>-4.1577+0.0im</td><td>-3.14267+2.43054im</td><td>1</td><td>3.87298</td><td>-4.1577</td></tr><tr><th>26</th><td>0.0</td><td>0.3</td><td>-2.35988+3.20616im</td><td>-2.35988-3.20616im</td><td>1</td><td>3.87298</td><td>-2.35988</td></tr><tr><th>27</th><td>0.0</td><td>0.31</td><td>-1.44555+3.7579im</td><td>-1.44555-3.7579im</td><td>1</td><td>3.87298</td><td>-1.44555</td></tr><tr><th>28</th><td>0.0</td><td>0.33</td><td>2.99556+2.65628im</td><td>2.99556-2.65628im</td><td>1</td><td>3.87298</td><td>2.99556</td></tr><tr><th>29</th><td>0.0</td><td>0.34</td><td>-4.11202+0.0im</td><td>3.33659+2.11756im</td><td>1</td><td>3.87298</td><td>-4.11202</td></tr><tr><th>30</th><td>0.0</td><td>0.35</td><td>-4.13731+0.0im</td><td>-3.79762+1.29416im</td><td>1</td><td>3.87298</td><td>-4.13731</td></tr><tr><th>&vellip;</th><td>&vellip;</td><td>&vellip;</td><td>&vellip;</td><td>&vellip;</td><td>&vellip;</td><td>&vellip;</td><td>&vellip;</td></tr></tbody></table>"
      ],
      "text/latex": [
       "\\begin{tabular}{r|ccccccc}\n",
       "\t& p₂ & p₃ & e2 & e3 & thread & threshold & real\\_part\\\\\n",
       "\t\\hline\n",
       "\t& Float64 & Float64 & Complex… & Complex… & Int64 & Float64 & Float64\\\\\n",
       "\t\\hline\n",
       "\t1 & 0.0 & 0.01 & -8.34339+0.0im & -3.30065+2.20607im & 1 & 3.87298 & -8.34339 \\\\\n",
       "\t2 & 0.0 & 0.02 & -8.06422+0.0im & -0.482757+3.98571im & 1 & 3.87298 & -8.06422 \\\\\n",
       "\t3 & 0.0 & 0.03 & -7.75181+0.0im & -3.11708+2.47119im & 1 & 3.87298 & -7.75181 \\\\\n",
       "\t4 & 0.0 & 0.04 & -7.72631+0.0im & 3.71019+1.46315im & 1 & 3.87298 & -7.72631 \\\\\n",
       "\t5 & 0.0 & 0.05 & -7.22574+0.0im & -3.48928+1.75873im & 1 & 3.87298 & -7.22574 \\\\\n",
       "\t6 & 0.0 & 0.06 & -7.61253+0.0im & -3.97459+0.0807906im & 1 & 3.87298 & -7.61253 \\\\\n",
       "\t7 & 0.0 & 0.08 & -7.29332+0.0im & 1.28258+3.71677im & 1 & 3.87298 & -7.29332 \\\\\n",
       "\t8 & 0.0 & 0.09 & -6.87235+0.0im & -1.45968+3.68749im & 1 & 3.87298 & -6.87235 \\\\\n",
       "\t9 & 0.0 & 0.1 & -6.81732+0.0im & 3.77966+0.921511im & 1 & 3.87298 & -6.81732 \\\\\n",
       "\t10 & 0.0 & 0.11 & -6.52753+0.0im & 3.93723+0.0im & 1 & 3.87298 & -6.52753 \\\\\n",
       "\t11 & 0.0 & 0.12 & -6.53634+0.0im & 3.71434+1.23413im & 1 & 3.87298 & -6.53634 \\\\\n",
       "\t12 & 0.0 & 0.13 & -6.3789+0.0im & -3.62477+1.60653im & 1 & 3.87298 & -6.3789 \\\\\n",
       "\t13 & 0.0 & 0.14 & -6.41984+0.0im & -3.88565+1.11472im & 1 & 3.87298 & -6.41984 \\\\\n",
       "\t14 & 0.0 & 0.15 & -6.06755+0.0im & -2.40548+3.1795im & 1 & 3.87298 & -6.06755 \\\\\n",
       "\t15 & 0.0 & 0.16 & -5.86713+0.0im & 0.670394+3.87971im & 1 & 3.87298 & -5.86713 \\\\\n",
       "\t16 & 0.0 & 0.17 & -5.93864+0.0im & -2.85676+2.75824im & 1 & 3.87298 & -5.93864 \\\\\n",
       "\t17 & 0.0 & 0.19 & -5.85061+0.0im & -2.68268+2.96181im & 1 & 3.87298 & -5.85061 \\\\\n",
       "\t18 & 0.0 & 0.2 & -6.14409+0.0im & -3.394+1.99847im & 1 & 3.87298 & -6.14409 \\\\\n",
       "\t19 & 0.0 & 0.21 & -5.65609+0.0im & -3.83667+0.963435im & 1 & 3.87298 & -5.65609 \\\\\n",
       "\t20 & 0.0 & 0.22 & -5.69836+0.0im & -3.57228+1.68601im & 1 & 3.87298 & -5.69836 \\\\\n",
       "\t21 & 0.0 & 0.23 & -5.27933+0.0im & -0.907932+3.85302im & 1 & 3.87298 & -5.27933 \\\\\n",
       "\t22 & 0.0 & 0.24 & -5.04535+0.0im & 2.75549+2.82239im & 1 & 3.87298 & -5.04535 \\\\\n",
       "\t23 & 0.0 & 0.26 & -4.91443+0.0im & -3.88584+0.730194im & 1 & 3.87298 & -4.91443 \\\\\n",
       "\t24 & 0.0 & 0.27 & -5.22552+0.0im & 2.90266+2.65785im & 1 & 3.87298 & -5.22552 \\\\\n",
       "\t25 & 0.0 & 0.28 & -4.1577+0.0im & -3.14267+2.43054im & 1 & 3.87298 & -4.1577 \\\\\n",
       "\t26 & 0.0 & 0.3 & -2.35988+3.20616im & -2.35988-3.20616im & 1 & 3.87298 & -2.35988 \\\\\n",
       "\t27 & 0.0 & 0.31 & -1.44555+3.7579im & -1.44555-3.7579im & 1 & 3.87298 & -1.44555 \\\\\n",
       "\t28 & 0.0 & 0.33 & 2.99556+2.65628im & 2.99556-2.65628im & 1 & 3.87298 & 2.99556 \\\\\n",
       "\t29 & 0.0 & 0.34 & -4.11202+0.0im & 3.33659+2.11756im & 1 & 3.87298 & -4.11202 \\\\\n",
       "\t30 & 0.0 & 0.35 & -4.13731+0.0im & -3.79762+1.29416im & 1 & 3.87298 & -4.13731 \\\\\n",
       "\t$\\dots$ & $\\dots$ & $\\dots$ & $\\dots$ & $\\dots$ & $\\dots$ & $\\dots$ & $\\dots$ \\\\\n",
       "\\end{tabular}\n"
      ],
      "text/plain": [
       "188217×7 DataFrame. Omitted printing of 2 columns\n",
       "│ Row    │ p₂      │ p₃      │ e2             │ e3                   │ thread │\n",
       "│        │ \u001b[90mFloat64\u001b[39m │ \u001b[90mFloat64\u001b[39m │ \u001b[90mComplex…\u001b[39m       │ \u001b[90mComplex{Float64}\u001b[39m     │ \u001b[90mInt64\u001b[39m  │\n",
       "├────────┼─────────┼─────────┼────────────────┼──────────────────────┼────────┤\n",
       "│ 1      │ 0.0     │ 0.01    │ -8.34339+0.0im │ -3.30065+2.20607im   │ 1      │\n",
       "│ 2      │ 0.0     │ 0.02    │ -8.06422+0.0im │ -0.482757+3.98571im  │ 1      │\n",
       "│ 3      │ 0.0     │ 0.03    │ -7.75181+0.0im │ -3.11708+2.47119im   │ 1      │\n",
       "│ 4      │ 0.0     │ 0.04    │ -7.72631+0.0im │ 3.71019+1.46315im    │ 1      │\n",
       "│ 5      │ 0.0     │ 0.05    │ -7.22574+0.0im │ -3.48928+1.75873im   │ 1      │\n",
       "│ 6      │ 0.0     │ 0.06    │ -7.61253+0.0im │ -3.97459+0.0807906im │ 1      │\n",
       "│ 7      │ 0.0     │ 0.08    │ -7.29332+0.0im │ 1.28258+3.71677im    │ 1      │\n",
       "│ 8      │ 0.0     │ 0.09    │ -6.87235+0.0im │ -1.45968+3.68749im   │ 1      │\n",
       "│ 9      │ 0.0     │ 0.1     │ -6.81732+0.0im │ 3.77966+0.921511im   │ 1      │\n",
       "│ 10     │ 0.0     │ 0.11    │ -6.52753+0.0im │ 3.93723+0.0im        │ 1      │\n",
       "⋮\n",
       "│ 188207 │ 1.0     │ 0.9     │ 13.3354+0.0im  │ -4.64309+0.0im       │ 1      │\n",
       "│ 188208 │ 1.0     │ 0.91    │ 13.3338+0.0im  │ -3.65532+1.77293im   │ 1      │\n",
       "│ 188209 │ 1.0     │ 0.92    │ 13.3062+0.0im  │ -4.30149+0.0im       │ 1      │\n",
       "│ 188210 │ 1.0     │ 0.93    │ 13.9297+0.0im  │ 0.249576+3.98667im   │ 1      │\n",
       "│ 188211 │ 1.0     │ 0.94    │ 14.2361+0.0im  │ -3.73076+1.37016im   │ 1      │\n",
       "│ 188212 │ 1.0     │ 0.95    │ 14.078+0.0im   │ -4.32824+0.0im       │ 1      │\n",
       "│ 188213 │ 1.0     │ 0.96    │ 13.8489+0.0im  │ -4.81581+0.0im       │ 1      │\n",
       "│ 188214 │ 1.0     │ 0.97    │ 14.7214+0.0im  │ -1.42327+3.78589im   │ 1      │\n",
       "│ 188215 │ 1.0     │ 0.98    │ 14.3968+0.0im  │ 4.29868+0.0im        │ 1      │\n",
       "│ 188216 │ 1.0     │ 0.99    │ 14.8874+0.0im  │ -4.49518+0.0im       │ 1      │\n",
       "│ 188217 │ 1.0     │ 1.0     │ 14.7387+0.0im  │ 3.5995+1.87701im     │ 1      │"
      ]
     },
     "execution_count": 78,
     "metadata": {},
     "output_type": "execute_result"
    }
   ],
   "source": [
    "DF.threshold = sqrt(c₂ * 1 + c₃ * 2)\n",
    "DF.real_part = real.(DF.e2)\n",
    "DF"
   ]
  },
  {
   "cell_type": "code",
   "execution_count": 79,
   "metadata": {},
   "outputs": [
    {
     "name": "stderr",
     "output_type": "stream",
     "text": [
      "┌ Warning: RCall.jl: `summarise()` regrouping output by 'p₂', 'p₃' (override with `.groups` argument)\n",
      "└ @ RCall /home/phil/.julia/packages/RCall/Qzssx/src/io.jl:160\n"
     ]
    },
    {
     "data": {
      "image/png": "[encoded data removed]"
     },
     "metadata": {},
     "output_type": "display_data"
    },
    {
     "data": {
      "text/plain": [
       "RObject{VecSxp}\n"
      ]
     },
     "execution_count": 79,
     "metadata": {},
     "output_type": "execute_result"
    },
    {
     "name": "stderr",
     "output_type": "stream",
     "text": [
      "┌ Warning: RCall.jl: Warning: Removed 9318 row(s) containing missing values (geom_path).\n",
      "└ @ RCall /home/phil/.julia/packages/RCall/Qzssx/src/io.jl:160\n"
     ]
    }
   ],
   "source": [
    "RCall.rcall_p(:options, rcalljl_options=Dict(:width => 450, :height => 200))\n",
    "\n",
    "\n",
    "R\"\"\"\n",
    "library(tidyverse)\n",
    "\n",
    "df <- tibble($DF)\n",
    "\n",
    "df <- df %>% \n",
    "    group_by(`p₂`, `p₃`) %>% \n",
    "    summarise(`eigenvalue gap` = mean(max(abs(real_part) - threshold), 0)/threshold) \n",
    "\n",
    "df <- df %>% \n",
    "    mutate(q_3 = (sqrt(2*($c₂ + 2*$c₃)) - (2*`p₂`-1)*$c₂)/(3*$c₃) + 1/3,\n",
    "           q_3 = ifelse(q_3 > 1, NA, q_3))\n",
    "\n",
    "df %>% \n",
    "    ggplot() + \n",
    "    aes(x = `p₂`, y = `p₃`, fill = `eigenvalue gap`) + \n",
    "    geom_tile() + \n",
    "    geom_line(aes(x = `p₂`, y = q_3), color = \"white\", linetype = \"dashed\") + \n",
    "    theme_bw() + \n",
    "    viridis::scale_fill_viridis(option = \"inferno\") + \n",
    "    scale_x_continuous(expand = c(0, 0)) + \n",
    "    scale_y_continuous(expand = c(0, 0)) + \n",
    "    theme(strip.background = element_blank(),\n",
    "          panel.spacing.x = unit(8, \"mm\"),\n",
    "          strip.text = element_text(size = 10)) +\n",
    "    xlab(expression(italic(p)[2])) + \n",
    "    ylab(expression(italic(p)[3])) + \n",
    "    coord_fixed() \n",
    "\n",
    "# ggsave(\"fig/detectability-second.png\")\n",
    "\"\"\""
   ]
  },
  {
   "cell_type": "code",
   "execution_count": 80,
   "metadata": {},
   "outputs": [
    {
     "name": "stderr",
     "output_type": "stream",
     "text": [
      "┌ Warning: RCall.jl: Saving 7 x 7 in image\n",
      "│ Warning: Removed 9318 row(s) containing missing values (geom_path).\n",
      "└ @ RCall /home/phil/.julia/packages/RCall/Qzssx/src/io.jl:160\n"
     ]
    },
    {
     "data": {
      "text/plain": [
       "RObject{NilSxp}\n",
       "NULL\n"
      ]
     },
     "execution_count": 80,
     "metadata": {},
     "output_type": "execute_result"
    }
   ],
   "source": [
    "R\"\"\"\n",
    "# ggsave(\"fig/detectability-third.png\")\n",
    "\"\"\""
   ]
  },
  {
   "cell_type": "code",
   "execution_count": null,
   "metadata": {},
   "outputs": [],
   "source": []
  }
 ],
 "metadata": {
  "kernelspec": {
   "display_name": "Julia 1.4.2 (multithreaded)",
   "language": "julia",
   "name": "julia-12-threads-1.4"
  },
  "language_info": {
   "file_extension": ".jl",
   "mimetype": "application/julia",
   "name": "julia",
   "version": "1.4.2"
  }
 },
 "nbformat": 4,
 "nbformat_minor": 4
}
