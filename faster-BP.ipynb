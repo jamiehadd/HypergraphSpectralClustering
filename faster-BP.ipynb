{
 "cells": [
  {
   "cell_type": "markdown",
   "metadata": {},
   "source": [
    "![](https://images.squarespace-cdn.com/content/v1/54ac05ebe4b0b365f77e14db/1525382987551-8BBONDY0X0G35XDX4FG7/ke17ZwdGBToddI8pDm48kDIn-TOaJZ_YZ8WW77X2puBZw-zPPgdn4jUwVcJE1ZvWEtT5uBSRWt4vQZAgTJucoTqqXjS3CfNDSuuf31e0tVG6WFl4Fnkb3hCxLccvwYe0A2OmNo2cc0iuLqoH7rPQCSb8BodarTVrzIWCp72ioWw/Spaceballs+Meme.png)"
   ]
  },
  {
   "cell_type": "code",
   "execution_count": 1,
   "metadata": {},
   "outputs": [
    {
     "name": "stderr",
     "output_type": "stream",
     "text": [
      "┌ Info: Precompiling HypergraphDetectability [2dbe4ab3-0c84-4f8d-86d2-f64d6d698dce]\n",
      "└ @ Base loading.jl:1260\n",
      "┌ Warning: Package HypergraphDetectability does not have StatsBase in its dependencies:\n",
      "│ - If you have HypergraphDetectability checked out for development and have\n",
      "│   added StatsBase as a dependency but haven't updated your primary\n",
      "│   environment's manifest file, try `Pkg.resolve()`.\n",
      "│ - Otherwise you may need to report an issue with HypergraphDetectability\n",
      "└ Loading StatsBase into HypergraphDetectability from project dependency, future warnings for HypergraphDetectability are suppressed.\n"
     ]
    }
   ],
   "source": [
    "using Revise\n",
    "using HypergraphDetectability\n",
    "using DataFrames\n",
    "using Clustering\n",
    "using Statistics\n",
    "using RCall\n",
    "using Arpack\n",
    "using Plots"
   ]
  },
  {
   "cell_type": "code",
   "execution_count": 2,
   "metadata": {},
   "outputs": [],
   "source": [
    "n  = 200\n",
    "c₂ = 10\n",
    "c₃ = 10\n",
    "z  = 1 .+ (1:n .> n/2);"
   ]
  },
  {
   "cell_type": "code",
   "execution_count": 3,
   "metadata": {},
   "outputs": [
    {
     "data": {
      "text/plain": [
       "experiment (generic function with 1 method)"
      ]
     },
     "execution_count": 3,
     "metadata": {},
     "output_type": "execute_result"
    }
   ],
   "source": [
    "function experiment(P₂, P₃, n, c₂, c₃, z)\n",
    "    P2, P3,  MI, EV = zeros(0), zeros(0), zeros(0), zeros(0)\n",
    "    for p₂ ∈ P₂, p₃ ∈ P₃\n",
    "        H = detectabilityData(n, c₂, c₃, p₂, p₃);\n",
    "        BP_mat, ix = linearizedBPMatrix(H, z; reduced = true);\n",
    "        try \n",
    "            E = Arpack.eigs(BP_mat; nev = 2, ritzvec = true)\n",
    "            \n",
    "            for ev ∈ 1:2\n",
    "                u = E[2][:,ev][(n+1):2n]\n",
    "                if !(mean(abs.(imag.(u))) ≈ 0)\n",
    "                    mi = 0.0\n",
    "                    append!(P2, p₂)\n",
    "                    append!(P3, p₃)\n",
    "                    append!(MI, mi)\n",
    "                    append!(EV, ev)\n",
    "                else\n",
    "                    clusters = 1 .+ (real.(u) .> 0)\n",
    "                    mi = mutualinfo(clusters, z)\n",
    "                    append!(P2, p₂)\n",
    "                    append!(P3, p₃)\n",
    "                    append!(MI, mi)\n",
    "                    append!(EV, ev)\n",
    "                end\n",
    "            end\n",
    "        catch e\n",
    "            nothing\n",
    "        end\n",
    "    end\n",
    "    DF = DataFrame(\n",
    "        P_2 = P2, \n",
    "        P_3 = P3, \n",
    "        MI = MI, \n",
    "        EV = EV\n",
    "    )\n",
    "    return DF\n",
    "end"
   ]
  },
  {
   "cell_type": "markdown",
   "metadata": {},
   "source": [
    "**Note**: the below cell takes quite a while to run!! Dropping the resolution of the grid or the number of repetitions is encouraged. "
   ]
  },
  {
   "cell_type": "code",
   "execution_count": null,
   "metadata": {},
   "outputs": [],
   "source": [
    "n_reps = 20\n",
    "DF = DataFrame()\n",
    "\n",
    "for rep ∈ 1:n_reps\n",
    "    println(\"round $(rep)\")\n",
    "    df = experiment(0:0.02:1, 0:0.02:1, n, c₂, c₃, z);\n",
    "    append!(DF, df)\n",
    "end"
   ]
  },
  {
   "cell_type": "markdown",
   "metadata": {},
   "source": [
    "The following block can be used for caching the results of the above computation for easy subsequent access. "
   ]
  },
  {
   "cell_type": "code",
   "execution_count": 5,
   "metadata": {},
   "outputs": [
    {
     "name": "stderr",
     "output_type": "stream",
     "text": [
      "┌ Warning: RCall.jl: ── Attaching packages ─────────────────────────────────────── tidyverse 1.3.0 ──\n",
      "│ ✔ ggplot2 3.3.2     ✔ purrr   0.3.4\n",
      "│ ✔ tibble  3.0.3     ✔ dplyr   1.0.0\n",
      "│ ✔ tidyr   1.1.0     ✔ stringr 1.4.0\n",
      "│ ✔ readr   1.3.1     ✔ forcats 0.5.0\n",
      "│ ── Conflicts ────────────────────────────────────────── tidyverse_conflicts() ──\n",
      "│ ✖ dplyr::filter() masks stats::filter()\n",
      "│ ✖ dplyr::lag()    masks stats::lag()\n",
      "└ @ RCall /home/phil/.julia/packages/RCall/Qzssx/src/io.jl:160\n"
     ]
    }
   ],
   "source": [
    "R\"\"\"\n",
    "library(tidyverse)\n",
    "df <- tibble($(DF))\n",
    "df\n",
    "df %>% write_csv(\"throughput/linearized-bp-heatmap-reduced.csv\")\n",
    "\"\"\";"
   ]
  },
  {
   "cell_type": "markdown",
   "metadata": {},
   "source": [
    "## Visualizations\n",
    "\n",
    "Now we're ready to visualize the results. First, we'll separately plot the recovery results when using the first and second eigenvectors separately. "
   ]
  },
  {
   "cell_type": "code",
   "execution_count": null,
   "metadata": {},
   "outputs": [],
   "source": [
    "R\"\"\"\n",
    "library(tidyverse)\n",
    "library(viridis)\n",
    "\n",
    "df <- read_csv(\"throughput/linearized-bp-heatmap-reduced.csv\")\n",
    "\n",
    "df <- df %>%\n",
    "    group_by(P_2, P_3, EV) %>% \n",
    "    summarise(MI = mean(MI, na.rm = T)) %>% \n",
    "    mutate(EV = paste0(\"Eigenvector \", EV))\n",
    "\n",
    "p <- df %>% \n",
    "    ggplot() + \n",
    "    aes(x = P_2, y = P_3, fill = MI) + \n",
    "    geom_tile() + \n",
    "    theme_minimal() + \n",
    "    scale_fill_viridis(option = \"inferno\", limits = c(0, 1)) + \n",
    "    scale_x_continuous(expand = c(0,0)) + \n",
    "    scale_y_continuous(expand = c(0,0)) + \n",
    "    xlab(expression(p[2])) + \n",
    "    ylab(expression(p[3])) + \n",
    "    theme(panel.grid = element_blank()) + \n",
    "    coord_fixed() + \n",
    "    facet_wrap(~EV)\n",
    "\n",
    "ggsave(\"fig/linearized-bp-heatmap-2-panel-reduced.png\", p,  width = 7, height = 3)\n",
    "p\n",
    "\"\"\"\n"
   ]
  },
  {
   "cell_type": "markdown",
   "metadata": {},
   "source": [
    "We can make an attractive combined plot in which the color of the tile corresponds to the eigenvector used to construct it. Paler tiles correspond to partial or failed recoveries, pink tiles correspond to recovery from the first eigenvector, and blue tiles to recoveries from the second eigenvector. \n",
    "\n",
    "There are labelling issues; due to the way I constructed this particular plot, it is difficult to get a professional legend giving a scale for the color shade intensity. Work in progress. "
   ]
  },
  {
   "cell_type": "code",
   "execution_count": 7,
   "metadata": {},
   "outputs": [
    {
     "ename": "RCall.REvalError",
     "evalue": "REvalError: Error: Must group by variables found in `.data`.\n* Column `P_2` is not found.\n* Column `P_3` is not found.\nBacktrace:\n    █\n 1. ├─`%>%`(...)\n 2. ├─ggplot2::ggplot(.)\n 3. ├─dplyr::mutate(., f = MI > 0)\n 4. ├─dplyr::mutate(., MI = MI * (-1)^(EV == \"Eigenvector 1\"))\n 5. ├─dplyr::filter(., MI == max(MI))\n 6. ├─dplyr::group_by(., P_2, P_3)\n 7. └─dplyr:::group_by.data.frame(., P_2, P_3)\n 8.   └─dplyr::group_by_prepare(.data, ..., .add = .add)",
     "output_type": "error",
     "traceback": [
      "REvalError: Error: Must group by variables found in `.data`.\n* Column `P_2` is not found.\n* Column `P_3` is not found.\nBacktrace:\n    █\n 1. ├─`%>%`(...)\n 2. ├─ggplot2::ggplot(.)\n 3. ├─dplyr::mutate(., f = MI > 0)\n 4. ├─dplyr::mutate(., MI = MI * (-1)^(EV == \"Eigenvector 1\"))\n 5. ├─dplyr::filter(., MI == max(MI))\n 6. ├─dplyr::group_by(., P_2, P_3)\n 7. └─dplyr:::group_by.data.frame(., P_2, P_3)\n 8.   └─dplyr::group_by_prepare(.data, ..., .add = .add)",
      "",
      "Stacktrace:",
      " [1] handle_eval_stderr(; as_warning::Bool) at /home/phil/.julia/packages/RCall/Qzssx/src/io.jl:162",
      " [2] reval_p(::Ptr{LangSxp}, ::Ptr{EnvSxp}) at /home/phil/.julia/packages/RCall/Qzssx/src/eval.jl:99",
      " [3] reval_p(::Ptr{RCall.ExprSxp}, ::Ptr{EnvSxp}) at /home/phil/.julia/packages/RCall/Qzssx/src/eval.jl:115",
      " [4] reval(::String, ::RObject{EnvSxp}) at /home/phil/.julia/packages/RCall/Qzssx/src/eval.jl:132",
      " [5] top-level scope at /home/phil/.julia/packages/RCall/Qzssx/src/macros.jl:71",
      " [6] top-level scope at In[7]:1"
     ]
    }
   ],
   "source": [
    "R\"\"\"\n",
    "p <- df %>% \n",
    "    group_by(P_2, P_3) %>% \n",
    "    filter(MI == max(MI)) %>% \n",
    "    mutate(MI = MI * (-1)^(EV == \"Eigenvector 1\")) %>% \n",
    "    mutate(f = MI > 0) %>% \n",
    "    ggplot() + \n",
    "    aes(x = P_2, y = P_3, fill = EV, alpha = abs(MI)) + \n",
    "    geom_tile() + \n",
    "    theme_minimal() + \n",
    "    scale_x_continuous(expand = c(0,0)) + \n",
    "    scale_y_continuous(expand = c(0,0)) + \n",
    "    xlab(expression(p[2])) + \n",
    "    ylab(expression(p[3])) + \n",
    "    theme(panel.grid = element_blank()) + \n",
    "    coord_fixed() + \n",
    "    guides(alpha = FALSE) + \n",
    "    theme(legend.position = \"bottom\") + \n",
    "    ggtitle(\"Recovery experiments in synthetic hypergraphs\", \n",
    "            subtitle = \"Mean mutual information over 20 trials\")\n",
    "\n",
    "ggsave(\"fig/linearized-bp-heatmap-reduced.png\", p,  width = 4, height = 4)\n",
    "p\n",
    "\"\"\""
   ]
  },
  {
   "cell_type": "code",
   "execution_count": 8,
   "metadata": {},
   "outputs": [
    {
     "name": "stderr",
     "output_type": "stream",
     "text": [
      "┌ Warning: RCall.jl: Warning in sqrt((1 - l_2^2 * C)/(2 * D)) : NaNs produced\n",
      "│ Warning in sqrt((1 - l_2^2 * C)/(2 * D)) : NaNs produced\n",
      "└ @ RCall /home/phil/.julia/packages/RCall/Qzssx/src/io.jl:160\n"
     ]
    }
   ],
   "source": [
    "R\"\"\"\n",
    "\n",
    "C = $(c₂)\n",
    "D = $(c₃)\n",
    "\n",
    "curve <- tibble(P_2 = seq(0, 1, 0.00001)) %>% \n",
    "    mutate(l_2 = 2*P_2 - 1,\n",
    "           P_3 = (1 + 3*sqrt((1 - l_2^2*C)/(2*D)))/4,\n",
    "           Q_3 = (1 - 3*sqrt((1 - l_2^2*C)/(2*D)))/4)\n",
    "\n",
    "\"\"\";"
   ]
  },
  {
   "cell_type": "code",
   "execution_count": 9,
   "metadata": {},
   "outputs": [
    {
     "ename": "RCall.REvalError",
     "evalue": "REvalError: Error: Must group by variables found in `.data`.\n* Column `P_2` is not found.\n* Column `P_3` is not found.\nBacktrace:\n    █\n 1. ├─`%>%`(...)\n 2. ├─ggplot2::ggplot(.)\n 3. ├─dplyr::mutate(., f = MI > 0)\n 4. ├─dplyr::mutate(., MI = MI * (-1)^(EV == \"Eigenvector 1\"))\n 5. ├─dplyr::filter(., MI == max(MI))\n 6. ├─dplyr::group_by(., P_2, P_3)\n 7. └─dplyr:::group_by.data.frame(., P_2, P_3)\n 8.   └─dplyr::group_by_prepare(.data, ..., .add = .add)",
     "output_type": "error",
     "traceback": [
      "REvalError: Error: Must group by variables found in `.data`.\n* Column `P_2` is not found.\n* Column `P_3` is not found.\nBacktrace:\n    █\n 1. ├─`%>%`(...)\n 2. ├─ggplot2::ggplot(.)\n 3. ├─dplyr::mutate(., f = MI > 0)\n 4. ├─dplyr::mutate(., MI = MI * (-1)^(EV == \"Eigenvector 1\"))\n 5. ├─dplyr::filter(., MI == max(MI))\n 6. ├─dplyr::group_by(., P_2, P_3)\n 7. └─dplyr:::group_by.data.frame(., P_2, P_3)\n 8.   └─dplyr::group_by_prepare(.data, ..., .add = .add)",
      "",
      "Stacktrace:",
      " [1] handle_eval_stderr(; as_warning::Bool) at /home/phil/.julia/packages/RCall/Qzssx/src/io.jl:162",
      " [2] reval_p(::Ptr{LangSxp}, ::Ptr{EnvSxp}) at /home/phil/.julia/packages/RCall/Qzssx/src/eval.jl:99",
      " [3] reval_p(::Ptr{RCall.ExprSxp}, ::Ptr{EnvSxp}) at /home/phil/.julia/packages/RCall/Qzssx/src/eval.jl:115",
      " [4] reval(::String, ::RObject{EnvSxp}) at /home/phil/.julia/packages/RCall/Qzssx/src/eval.jl:132",
      " [5] top-level scope at /home/phil/.julia/packages/RCall/Qzssx/src/macros.jl:71",
      " [6] top-level scope at In[9]:1"
     ]
    }
   ],
   "source": [
    "R\"\"\"\n",
    "inauguration_2021 <- c(\"#5445b1\", \"#749dae\", \"#f3c483\", \"#5c1a33\", \"#cd3341\",\"#f7dc6a\")\n",
    "p <- df %>% \n",
    "    group_by(P_2, P_3) %>% \n",
    "    filter(MI == max(MI)) %>% \n",
    "    mutate(MI = MI * (-1)^(EV == \"Eigenvector 1\")) %>% \n",
    "    mutate(f = MI > 0) %>% \n",
    "    ggplot() + \n",
    "    geom_tile(aes(x = P_2, y = P_3, fill = EV, alpha = abs(MI))) + \n",
    "    theme_minimal() + \n",
    "    scale_x_continuous(expand = c(0,0), limits = c(0, 1)) + \n",
    "    scale_y_continuous(expand = c(0,0), limits = c(0, 1)) + \n",
    "    xlab(expression(p[2])) + \n",
    "    ylab(expression(p[3])) + \n",
    "    theme(panel.grid = element_blank()) + \n",
    "    coord_fixed() + \n",
    "    guides(alpha = FALSE, fill = guide_legend(title = \"Eigenvector used\")) + \n",
    "    theme(legend.position = \"bottom\") + \n",
    "    ggtitle(\"Recovery experiment\", \n",
    "            subtitle = \"Mean mutual information over 20 trials\") + \n",
    "    geom_line(aes(x = P_2, y = P_3), data = curve) + \n",
    "    geom_line(aes(x = P_2, y = Q_3), data = curve) + \n",
    "    scale_fill_manual(values = inauguration_2021[2:3]) + \n",
    "    annotate(\"text\", x = 0.5, y = 0.25, label = \"Undetectable\", size = 3)\n",
    "\n",
    "ggsave(\"fig/linearized-bp-heatmap-with-annotation-reduced.png\", p,  width = 6, height = 5)\n",
    "p\n",
    "\"\"\""
   ]
  },
  {
   "cell_type": "code",
   "execution_count": 10,
   "metadata": {},
   "outputs": [
    {
     "name": "stderr",
     "output_type": "stream",
     "text": [
      "┌ Warning: RCall.jl: Warning in sqrt((1 - l_2^2 * C)/(2 * D)) : NaNs produced\n",
      "│ Warning in sqrt((1 - l_2^2 * C)/(2 * D)) : NaNs produced\n",
      "└ @ RCall /home/phil/.julia/packages/RCall/Qzssx/src/io.jl:160\n"
     ]
    },
    {
     "ename": "RCall.REvalError",
     "evalue": "REvalError: Error in FUN(X[[i]], ...) : object 'P_2' not found\nCalls: ggsave ... ggplot_build.ggplot -> by_layer -> f -> <Anonymous> -> f -> lapply -> FUN",
     "output_type": "error",
     "traceback": [
      "REvalError: Error in FUN(X[[i]], ...) : object 'P_2' not found\nCalls: ggsave ... ggplot_build.ggplot -> by_layer -> f -> <Anonymous> -> f -> lapply -> FUN",
      "",
      "Stacktrace:",
      " [1] handle_eval_stderr(; as_warning::Bool) at /home/phil/.julia/packages/RCall/Qzssx/src/io.jl:162",
      " [2] reval_p(::Ptr{LangSxp}, ::Ptr{EnvSxp}) at /home/phil/.julia/packages/RCall/Qzssx/src/eval.jl:99",
      " [3] reval_p(::Ptr{RCall.ExprSxp}, ::Ptr{EnvSxp}) at /home/phil/.julia/packages/RCall/Qzssx/src/eval.jl:115",
      " [4] reval(::String, ::RObject{EnvSxp}) at /home/phil/.julia/packages/RCall/Qzssx/src/eval.jl:132",
      " [5] top-level scope at /home/phil/.julia/packages/RCall/Qzssx/src/macros.jl:67",
      " [6] top-level scope at In[10]:1"
     ]
    }
   ],
   "source": [
    "R\"\"\"\n",
    "inauguration_2021 <- c(\"#5445b1\", \"#749dae\", \"#f3c483\", \"#5c1a33\", \"#cd3341\",\"#f7dc6a\")\n",
    "\n",
    "C = $(c₂)\n",
    "D = $(c₃)\n",
    "\n",
    "curve <- tibble(expand.grid(P_2 = seq(0, 1, 0.00001), EV = c(\"Eigenvector 1\", \"Eigenvector 2\"))) %>% \n",
    "    mutate(l_2 = 2*P_2 - 1,\n",
    "           P_3 = (1 + 3*sqrt((1 - l_2^2*C)/(2*D)))/4,\n",
    "           Q_3 = (1 - 3*sqrt((1 - l_2^2*C)/(2*D)))/4)\n",
    "\n",
    "\n",
    "p <- df %>% \n",
    "    ggplot() + \n",
    "    geom_tile(aes(x = P_2, y = P_3, fill = MI)) + \n",
    "    theme_minimal() + \n",
    "    scale_x_continuous(expand = c(0,0), limits = c(0, 1)) + \n",
    "    scale_y_continuous(expand = c(0,0), limits = c(0, 1)) + \n",
    "    xlab(expression(p[2])) + \n",
    "    ylab(expression(p[3])) + \n",
    "    theme(panel.grid = element_blank(), panel.spacing = unit(2, \"lines\")) + \n",
    "    coord_fixed() + \n",
    "    facet_wrap(~EV) + \n",
    "    guides(alpha = FALSE, fill = guide_colorbar(title = \"NMI\")) + \n",
    "    ggtitle(\"Recovery experiments in synthetic hypergraphs\", \n",
    "            subtitle = \"Mean mutual information over 20 trials\") + \n",
    "    geom_line(aes(x = P_2, y = P_3), data = curve, color = \"white\") + \n",
    "    geom_line(aes(x = P_2, y = Q_3), data = curve, color = \"white\") + \n",
    "    annotate(\"text\", x = 0.5, y = 0.25, label = \"Undetectable\", color = \"white\", size = 3) + \n",
    "    scale_fill_viridis(option = \"inferno\", limits = c(0, 1))\n",
    "\n",
    "ggsave(\"fig/linearized-bp-heatmap-with-annotation-reduced-2-panel.png\", p,  width = 8, height = 4)\n",
    "p\n",
    "\"\"\""
   ]
  },
  {
   "cell_type": "markdown",
   "metadata": {},
   "source": [
    "# What's with the nonconvex undetectable region?\n",
    "\n",
    "I would have kind of imagined that the undetectable region would be convex, and it appears that this is theoretically correct. When working with the *unreduced* nonbacktracking matrices, the undetectable region indeed appears to be convex, while when working with the *reduced* nonbacktracking matrices this appears not to be the case. Presumably this is due either to an alignment issue with the eigenvectors or a gap in the interpretation of the reduced matrix when thinking about belief-propagation. \n",
    "\n",
    "Here's a hypergraph in what appears to be the undetectable regime for the reduced version, but is detectable for the unreduced version. "
   ]
  },
  {
   "cell_type": "code",
   "execution_count": 11,
   "metadata": {},
   "outputs": [],
   "source": [
    "n  = 500\n",
    "c₂ = 5\n",
    "c₃ = 5\n",
    "z  = 1 .+ (1:n .> n/2);\n",
    "p₂ = 0.6\n",
    "p₃ = 0.6\n",
    "H = detectabilityData(n, c₂, c₃, p₂, p₃);"
   ]
  },
  {
   "cell_type": "code",
   "execution_count": 12,
   "metadata": {},
   "outputs": [
    {
     "ename": "UndefVarError",
     "evalue": "UndefVarError: counts not defined",
     "output_type": "error",
     "traceback": [
      "UndefVarError: counts not defined",
      "",
      "Stacktrace:",
      " [1] linearizedBPMatrix(::hypergraph, ::Array{Int64,1}; reduced::Bool) at /home/phil/HyperCommDetect/HypergraphDetectability/src/matrices.jl:339",
      " [2] top-level scope at In[12]:1"
     ]
    }
   ],
   "source": [
    "\n",
    "BP_mat, ix = linearizedBPMatrix(H, z; reduced = true);"
   ]
  },
  {
   "cell_type": "code",
   "execution_count": 13,
   "metadata": {},
   "outputs": [
    {
     "ename": "UndefVarError",
     "evalue": "UndefVarError: BP_mat not defined",
     "output_type": "error",
     "traceback": [
      "UndefVarError: BP_mat not defined",
      "",
      "Stacktrace:",
      " [1] top-level scope at In[13]:1"
     ]
    }
   ],
   "source": [
    "E = Arpack.eigs(BP_mat; nev = 2, ritzvec = true);"
   ]
  },
  {
   "cell_type": "code",
   "execution_count": 14,
   "metadata": {},
   "outputs": [
    {
     "ename": "UndefVarError",
     "evalue": "UndefVarError: E not defined",
     "output_type": "error",
     "traceback": [
      "UndefVarError: E not defined",
      "",
      "Stacktrace:",
      " [1] top-level scope at In[14]:1"
     ]
    }
   ],
   "source": [
    "E[1]"
   ]
  },
  {
   "cell_type": "markdown",
   "metadata": {},
   "source": [
    "Complex second eigenvalue -- no go. "
   ]
  },
  {
   "cell_type": "code",
   "execution_count": 15,
   "metadata": {},
   "outputs": [
    {
     "ename": "UndefVarError",
     "evalue": "UndefVarError: counts not defined",
     "output_type": "error",
     "traceback": [
      "UndefVarError: counts not defined",
      "",
      "Stacktrace:",
      " [1] linearizedBPMatrix(::hypergraph, ::Array{Int64,1}; reduced::Bool) at /home/phil/HyperCommDetect/HypergraphDetectability/src/matrices.jl:339",
      " [2] top-level scope at In[15]:2"
     ]
    }
   ],
   "source": [
    "H = detectabilityData(n, c₂, c₃, p₂, p₃);\n",
    "BP_mat, ix = linearizedBPMatrix(H, z; reduced = false);\n",
    "E = Arpack.eigs(BP_mat; nev = 2, ritzvec = true);"
   ]
  },
  {
   "cell_type": "code",
   "execution_count": 16,
   "metadata": {},
   "outputs": [
    {
     "ename": "UndefVarError",
     "evalue": "UndefVarError: E not defined",
     "output_type": "error",
     "traceback": [
      "UndefVarError: E not defined",
      "",
      "Stacktrace:",
      " [1] top-level scope at In[16]:1"
     ]
    }
   ],
   "source": [
    "E[1]"
   ]
  },
  {
   "cell_type": "markdown",
   "metadata": {},
   "source": [
    "Real second eigenvalue -- detectable!! "
   ]
  },
  {
   "cell_type": "markdown",
   "metadata": {},
   "source": [
    "Why is this? "
   ]
  },
  {
   "cell_type": "code",
   "execution_count": 17,
   "metadata": {},
   "outputs": [
    {
     "ename": "Arpack.ARPACKException",
     "evalue": "ARPACKException: unspecified ARPACK error: 1",
     "output_type": "error",
     "traceback": [
      "ARPACKException: unspecified ARPACK error: 1",
      "",
      "Stacktrace:",
      " [1] aupd_wrapper(::Type{T} where T, ::Arpack.var\"#matvecA!#24\"{SparseArrays.SparseMatrixCSC{Float64,Int64}}, ::Arpack.var\"#18#25\", ::Arpack.var\"#19#26\", ::Int64, ::Bool, ::Bool, ::String, ::Int64, ::Int64, ::String, ::Float64, ::Int64, ::Int64, ::Array{Float64,1}) at /home/phil/.julia/packages/Arpack/o35I5/src/libarpack.jl:76",
      " [2] _eigs(::SparseArrays.SparseMatrixCSC{Float64,Int64}, ::LinearAlgebra.UniformScaling{Bool}; nev::Int64, ncv::Int64, which::Symbol, tol::Float64, maxiter::Int64, sigma::Nothing, v0::Array{Float64,1}, ritzvec::Bool) at /home/phil/.julia/packages/Arpack/o35I5/src/Arpack.jl:181",
      " [3] #eigs#10 at /home/phil/.julia/packages/Arpack/o35I5/src/Arpack.jl:46 [inlined]",
      " [4] #eigs#14 at /home/phil/.julia/packages/Arpack/o35I5/src/Arpack.jl:53 [inlined]",
      " [5] #eigs#9 at /home/phil/.julia/packages/Arpack/o35I5/src/Arpack.jl:45 [inlined]",
      " [6] top-level scope at In[17]:2"
     ]
    }
   ],
   "source": [
    "Bs = reducedNonBacktrackingMatrices(H)\n",
    "\n",
    "E = Arpack.eigs(Bs[2]; nev = 2, ritzvec = true);\n",
    "E[1]"
   ]
  },
  {
   "cell_type": "code",
   "execution_count": 18,
   "metadata": {},
   "outputs": [
    {
     "ename": "Arpack.ARPACKException",
     "evalue": "ARPACKException: unspecified ARPACK error: 1",
     "output_type": "error",
     "traceback": [
      "ARPACKException: unspecified ARPACK error: 1",
      "",
      "Stacktrace:",
      " [1] aupd_wrapper(::Type{T} where T, ::Arpack.var\"#matvecA!#24\"{SparseArrays.SparseMatrixCSC{Float64,Int64}}, ::Arpack.var\"#18#25\", ::Arpack.var\"#19#26\", ::Int64, ::Bool, ::Bool, ::String, ::Int64, ::Int64, ::String, ::Float64, ::Int64, ::Int64, ::Array{Float64,1}) at /home/phil/.julia/packages/Arpack/o35I5/src/libarpack.jl:76",
      " [2] _eigs(::SparseArrays.SparseMatrixCSC{Float64,Int64}, ::LinearAlgebra.UniformScaling{Bool}; nev::Int64, ncv::Int64, which::Symbol, tol::Float64, maxiter::Int64, sigma::Nothing, v0::Array{Float64,1}, ritzvec::Bool) at /home/phil/.julia/packages/Arpack/o35I5/src/Arpack.jl:181",
      " [3] #eigs#10 at /home/phil/.julia/packages/Arpack/o35I5/src/Arpack.jl:46 [inlined]",
      " [4] #eigs#14 at /home/phil/.julia/packages/Arpack/o35I5/src/Arpack.jl:53 [inlined]",
      " [5] #eigs#9 at /home/phil/.julia/packages/Arpack/o35I5/src/Arpack.jl:45 [inlined]",
      " [6] top-level scope at In[18]:2"
     ]
    }
   ],
   "source": [
    "Bs, ix = nonBacktrackingMatrices(H)\n",
    "\n",
    "E = Arpack.eigs(Bs[2]; nev = 2, ritzvec = true);\n",
    "E[1]"
   ]
  },
  {
   "cell_type": "code",
   "execution_count": null,
   "metadata": {},
   "outputs": [],
   "source": []
  }
 ],
 "metadata": {
  "kernelspec": {
   "display_name": "Julia 1.4.2 (multithreaded)",
   "language": "julia",
   "name": "julia-12-threads-1.4"
  },
  "language_info": {
   "file_extension": ".jl",
   "mimetype": "application/julia",
   "name": "julia",
   "version": "1.4.2"
  }
 },
 "nbformat": 4,
 "nbformat_minor": 4
}
