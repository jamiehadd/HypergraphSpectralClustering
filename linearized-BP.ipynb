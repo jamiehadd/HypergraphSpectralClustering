{
 "cells": [
  {
   "cell_type": "markdown",
   "metadata": {},
   "source": [
    "# Linearized BP Matrix\n",
    "\n",
    "In this notebook, we'll run a quick proof-of-concept experiment in which we'll show that the linearized nonbacktracking matrix for belief propagation can indeed detect communities well outside the regimes in which both hypergraph Louvain and graph-based methods can work. To emphasize, this is very **proof-of-concept**. As we'll see, there's both some theory in need of understanding and various important improvements to the code. "
   ]
  },
  {
   "cell_type": "code",
   "execution_count": 1,
   "metadata": {},
   "outputs": [],
   "source": [
    "using HypergraphDetectability\n",
    "using DataFrames\n",
    "using Clustering\n",
    "using Statistics\n",
    "using RCall\n",
    "using Arpack"
   ]
  },
  {
   "cell_type": "code",
   "execution_count": 2,
   "metadata": {},
   "outputs": [],
   "source": [
    "n  = 100\n",
    "c₂ = 5\n",
    "c₃ = 5\n",
    "z  = 1 .+ (1:n .> n/2);"
   ]
  },
  {
   "cell_type": "code",
   "execution_count": 3,
   "metadata": {},
   "outputs": [
    {
     "data": {
      "text/plain": [
       "experiment (generic function with 1 method)"
      ]
     },
     "execution_count": 3,
     "metadata": {},
     "output_type": "execute_result"
    }
   ],
   "source": [
    "function experiment(P₂, P₃, n, c₂, c₃, z)\n",
    "    P2, P3,  MI, EV = zeros(0), zeros(0), zeros(0), zeros(0)\n",
    "    for p₂ ∈ P₂, p₃ ∈ P₃\n",
    "        H = detectabilityData(n, c₂, c₃, p₂, p₃);\n",
    "        BP_mat, ix = linearizedBPMatrix(H, z);\n",
    "        try \n",
    "            E = Arpack.eigs(BP_mat; nev = 2, ritzvec = true)\n",
    "            \n",
    "            for ev ∈ 1:2\n",
    "                v = E[2][:,ev]\n",
    "                u = aggregateEigenvector(v, ix)\n",
    "                if !(mean(abs.(imag.(u))) ≈ 0)\n",
    "                    mi = 0.0\n",
    "                    append!(P2, p₂)\n",
    "                    append!(P3, p₃)\n",
    "                    append!(MI, mi)\n",
    "                    append!(EV, ev)\n",
    "                else\n",
    "                    clusters = 1 .+ (real.(u) .> 0)\n",
    "                    mi = mutualinfo(clusters, z)\n",
    "                    append!(P2, p₂)\n",
    "                    append!(P3, p₃)\n",
    "                    append!(MI, mi)\n",
    "                    append!(EV, ev)\n",
    "                end\n",
    "            end\n",
    "        catch e\n",
    "            nothing\n",
    "        end\n",
    "    end\n",
    "    DF = DataFrame(\n",
    "        P_2 = P2, \n",
    "        P_3 = P3, \n",
    "        MI = MI, \n",
    "        EV = EV\n",
    "    )\n",
    "    return DF\n",
    "end"
   ]
  },
  {
   "cell_type": "markdown",
   "metadata": {},
   "source": [
    "**Note**: the below cell takes quite a while to run!! Dropping the resolution of the grid or the number of repetitions is encouraged. "
   ]
  },
  {
   "cell_type": "code",
   "execution_count": 4,
   "metadata": {},
   "outputs": [],
   "source": [
    "n_reps = 20\n",
    "DF = DataFrame()\n",
    "\n",
    "# for rep ∈ 1:n_reps\n",
    "#     println(\"round $(rep)\")\n",
    "#     df = experiment(0:0.02:1, 0:0.02:1, n, c₂, c₃, z);\n",
    "#     append!(DF, df)\n",
    "# end"
   ]
  },
  {
   "cell_type": "markdown",
   "metadata": {},
   "source": [
    "The following block can be used for caching the results of the above computation for easy subsequent access. "
   ]
  },
  {
   "cell_type": "code",
   "execution_count": 13,
   "metadata": {},
   "outputs": [
    {
     "data": {
      "text/plain": [
       "RObject{VecSxp}\n",
       "# A tibble: 101,322 x 4\n",
       "     P_2   P_3     MI    EV\n",
       "   <dbl> <dbl>  <dbl> <dbl>\n",
       " 1     0  0    0          1\n",
       " 2     0  0    1          2\n",
       " 3     0  0.02 0          1\n",
       " 4     0  0.02 1          2\n",
       " 5     0  0.04 0.0186     1\n",
       " 6     0  0.04 1          2\n",
       " 7     0  0.06 0          1\n",
       " 8     0  0.06 1          2\n",
       " 9     0  0.08 0          1\n",
       "10     0  0.08 1          2\n",
       "# … with 101,312 more rows\n"
      ]
     },
     "execution_count": 13,
     "metadata": {},
     "output_type": "execute_result"
    }
   ],
   "source": [
    "R\"\"\"\n",
    "# library(tidyverse)\n",
    "# df <- tibble($(DF))\n",
    "# df %>% write_csv(\"throughput/linearized-bp-heatmap.csv\")\n",
    "\"\"\";"
   ]
  },
  {
   "cell_type": "markdown",
   "metadata": {},
   "source": [
    "## Visualizations\n",
    "\n",
    "Now we're ready to visualize the results. First, we'll separately plot the recovery results when using the first and second eigenvectors separately. "
   ]
  },
  {
   "cell_type": "code",
   "execution_count": 5,
   "metadata": {},
   "outputs": [
    {
     "name": "stderr",
     "output_type": "stream",
     "text": [
      "┌ Warning: RCall.jl: ── Attaching packages ─────────────────────────────────────── tidyverse 1.3.0 ──\n",
      "│ ✔ ggplot2 3.3.2     ✔ purrr   0.3.4\n",
      "│ ✔ tibble  3.0.3     ✔ dplyr   1.0.0\n",
      "│ ✔ tidyr   1.1.0     ✔ stringr 1.4.0\n",
      "│ ✔ readr   1.3.1     ✔ forcats 0.5.0\n",
      "│ ── Conflicts ────────────────────────────────────────── tidyverse_conflicts() ──\n",
      "│ ✖ dplyr::filter() masks stats::filter()\n",
      "│ ✖ dplyr::lag()    masks stats::lag()\n",
      "└ @ RCall /home/phil/.julia/packages/RCall/Qzssx/src/io.jl:160\n",
      "┌ Warning: RCall.jl: Loading required package: viridisLite\n",
      "└ @ RCall /home/phil/.julia/packages/RCall/Qzssx/src/io.jl:160\n",
      "┌ Warning: RCall.jl: Parsed with column specification:\n",
      "│ cols(\n",
      "│   P_2 = col_double(),\n",
      "│   P_3 = col_double(),\n",
      "│   MI = col_double(),\n",
      "│   EV = col_double()\n",
      "│ )\n",
      "└ @ RCall /home/phil/.julia/packages/RCall/Qzssx/src/io.jl:160\n",
      "┌ Warning: RCall.jl: `summarise()` regrouping output by 'P_2', 'P_3' (override with `.groups` argument)\n",
      "└ @ RCall /home/phil/.julia/packages/RCall/Qzssx/src/io.jl:160\n"
     ]
    },
    {
     "data": {
      "image/png": "[encoded data removed]"
     },
     "metadata": {},
     "output_type": "display_data"
    },
    {
     "data": {
      "text/plain": [
       "RObject{VecSxp}\n"
      ]
     },
     "execution_count": 5,
     "metadata": {},
     "output_type": "execute_result"
    }
   ],
   "source": [
    "R\"\"\"\n",
    "library(tidyverse)\n",
    "library(viridis)\n",
    "\n",
    "df <- read_csv(\"throughput/linearized-bp-heatmap.csv\")\n",
    "\n",
    "df <- df %>%\n",
    "    group_by(P_2, P_3, EV) %>% \n",
    "    summarise(MI = mean(MI, na.rm = T)) %>% \n",
    "    mutate(EV = paste0(\"Eigenvector \", EV))\n",
    "\n",
    "p <- df %>% \n",
    "    ggplot() + \n",
    "    aes(x = P_2, y = P_3, fill = MI) + \n",
    "    geom_tile() + \n",
    "    theme_minimal() + \n",
    "    scale_fill_viridis(option = \"inferno\", limits = c(0, 1)) + \n",
    "    scale_x_continuous(expand = c(0,0)) + \n",
    "    scale_y_continuous(expand = c(0,0)) + \n",
    "    xlab(expression(p[2])) + \n",
    "    ylab(expression(p[3])) + \n",
    "    theme(panel.grid = element_blank()) + \n",
    "    coord_fixed() + \n",
    "    facet_wrap(~EV)\n",
    "\n",
    "ggsave(\"fig/linearized-bp-heatmap-2-panel.png\", p,  width = 7, height = 3)\n",
    "p\n",
    "\"\"\"\n"
   ]
  },
  {
   "cell_type": "markdown",
   "metadata": {},
   "source": [
    "We can make an attractive combined plot in which the color of the tile corresponds to the eigenvector used to construct it. Paler tiles correspond to partial or failed recoveries, pink tiles correspond to recovery from the first eigenvector, and blue tiles to recoveries from the second eigenvector. \n",
    "\n",
    "There are labelling issues; due to the way I constructed this particular plot, it is difficult to get a professional legend giving a scale for the color shade intensity. Work in progress. "
   ]
  },
  {
   "cell_type": "code",
   "execution_count": 6,
   "metadata": {},
   "outputs": [
    {
     "data": {
      "image/png": "[encoded data removed]"
     },
     "metadata": {},
     "output_type": "display_data"
    },
    {
     "data": {
      "text/plain": [
       "RObject{VecSxp}\n"
      ]
     },
     "execution_count": 6,
     "metadata": {},
     "output_type": "execute_result"
    }
   ],
   "source": [
    "R\"\"\"\n",
    "p <- df %>% \n",
    "    group_by(P_2, P_3) %>% \n",
    "    filter(MI == max(MI)) %>% \n",
    "    mutate(MI = MI * (-1)^(EV == \"Eigenvector 1\")) %>% \n",
    "    mutate(f = MI > 0) %>% \n",
    "    ggplot() + \n",
    "    aes(x = P_2, y = P_3, fill = EV, alpha = abs(MI)) + \n",
    "    geom_tile() + \n",
    "    theme_minimal() + \n",
    "    scale_x_continuous(expand = c(0,0)) + \n",
    "    scale_y_continuous(expand = c(0,0)) + \n",
    "    xlab(expression(p[2])) + \n",
    "    ylab(expression(p[3])) + \n",
    "    theme(panel.grid = element_blank()) + \n",
    "    coord_fixed() + \n",
    "    guides(alpha = FALSE) + \n",
    "    theme(legend.position = \"bottom\") + \n",
    "    ggtitle(\"Recovery experiments in synthetic hypergraphs\", \n",
    "            subtitle = \"Mean mutual information over 20 trials\")\n",
    "\n",
    "ggsave(\"fig/linearized-bp-heatmap.png\", p,  width = 4, height = 4)\n",
    "p\n",
    "\"\"\""
   ]
  },
  {
   "cell_type": "code",
   "execution_count": 639,
   "metadata": {},
   "outputs": [
    {
     "name": "stderr",
     "output_type": "stream",
     "text": [
      "┌ Warning: RCall.jl: Warning in sqrt((1 - l_2^2 * C)/(2 * D)) : NaNs produced\n",
      "│ Warning in sqrt((1 - l_2^2 * C)/(2 * D)) : NaNs produced\n",
      "└ @ RCall /home/phil/.julia/packages/RCall/Qzssx/src/io.jl:160\n"
     ]
    }
   ],
   "source": [
    "R\"\"\"\n",
    "\n",
    "C = $(c₂)\n",
    "D = $(c₃)\n",
    "\n",
    "curve <- tibble(P_2 = seq(0, 1, 0.00001)) %>% \n",
    "    mutate(l_2 = 2*P_2 - 1,\n",
    "           P_3 = (1 + 3*sqrt((1 - l_2^2*C)/(2*D)))/4,\n",
    "           Q_3 = (1 - 3*sqrt((1 - l_2^2*C)/(2*D)))/4)\n",
    "\n",
    "\"\"\";"
   ]
  },
  {
   "cell_type": "code",
   "execution_count": 666,
   "metadata": {},
   "outputs": [
    {
     "name": "stderr",
     "output_type": "stream",
     "text": [
      "┌ Warning: RCall.jl: Warning: Removed 136756 row(s) containing missing values (geom_path).\n",
      "│ Warning: Removed 136756 row(s) containing missing values (geom_path).\n",
      "└ @ RCall /home/phil/.julia/packages/RCall/Qzssx/src/io.jl:160\n"
     ]
    },
    {
     "data": {
      "text/plain": [
       "RObject{NilSxp}\n",
       "NULL\n"
      ]
     },
     "execution_count": 666,
     "metadata": {},
     "output_type": "execute_result"
    }
   ],
   "source": [
    "R\"\"\"\n",
    "inauguration_2021 <- c(\"#5445b1\", \"#749dae\", \"#f3c483\", \"#5c1a33\", \"#cd3341\",\"#f7dc6a\")\n",
    "p <- df %>% \n",
    "    group_by(P_2, P_3) %>% \n",
    "    filter(MI == max(MI)) %>% \n",
    "    mutate(MI = MI * (-1)^(EV == \"Eigenvector 1\")) %>% \n",
    "    mutate(f = MI > 0) %>% \n",
    "    ggplot() + \n",
    "    geom_tile(aes(x = P_2, y = P_3, fill = EV, alpha = abs(MI))) + \n",
    "    theme_minimal() + \n",
    "    scale_x_continuous(expand = c(0,0), limits = c(0, 1)) + \n",
    "    scale_y_continuous(expand = c(0,0), limits = c(0, 1)) + \n",
    "    xlab(expression(p[2])) + \n",
    "    ylab(expression(p[3])) + \n",
    "    theme(panel.grid = element_blank()) + \n",
    "    coord_fixed() + \n",
    "    guides(alpha = FALSE, fill = guide_legend(title = \"Eigenvector used\")) + \n",
    "    theme(legend.position = \"bottom\") + \n",
    "    ggtitle(\"Recovery experiment\", \n",
    "            subtitle = \"Mean mutual information over 20 trials\") + \n",
    "    geom_line(aes(x = P_2, y = P_3), data = curve) + \n",
    "    geom_line(aes(x = P_2, y = Q_3), data = curve) + \n",
    "    scale_fill_manual(values = inauguration_2021[2:3]) + \n",
    "    annotate(\"text\", x = 0.5, y = 0.25, label = \"Undetectable\", size = 3)\n",
    "\n",
    "ggsave(\"fig/linearized-bp-heatmap-with-annotation.png\", p,  width = 4, height = 4)\n",
    "\n",
    "\"\"\""
   ]
  },
  {
   "cell_type": "code",
   "execution_count": 664,
   "metadata": {},
   "outputs": [
    {
     "name": "stderr",
     "output_type": "stream",
     "text": [
      "┌ Warning: RCall.jl: Warning in sqrt((1 - l_2^2 * C)/(2 * D)) : NaNs produced\n",
      "│ Warning in sqrt((1 - l_2^2 * C)/(2 * D)) : NaNs produced\n",
      "└ @ RCall /home/phil/.julia/packages/RCall/Qzssx/src/io.jl:160\n",
      "┌ Warning: RCall.jl: Warning: Removed 68378 row(s) containing missing values (geom_path).\n",
      "│ Warning: Removed 68378 row(s) containing missing values (geom_path).\n",
      "└ @ RCall /home/phil/.julia/packages/RCall/Qzssx/src/io.jl:160\n"
     ]
    },
    {
     "data": {
      "text/plain": [
       "RObject{NilSxp}\n",
       "NULL\n"
      ]
     },
     "execution_count": 664,
     "metadata": {},
     "output_type": "execute_result"
    }
   ],
   "source": [
    "R\"\"\"\n",
    "inauguration_2021 <- c(\"#5445b1\", \"#749dae\", \"#f3c483\", \"#5c1a33\", \"#cd3341\",\"#f7dc6a\")\n",
    "\n",
    "C = $(c₂)\n",
    "D = $(c₃)\n",
    "\n",
    "curve <- tibble(expand.grid(P_2 = seq(0, 1, 0.00001), EV = c(\"Eigenvector 1\", \"Eigenvector 2\"))) %>% \n",
    "    mutate(l_2 = 2*P_2 - 1,\n",
    "           P_3 = (1 + 3*sqrt((1 - l_2^2*C)/(2*D)))/4,\n",
    "           Q_3 = (1 - 3*sqrt((1 - l_2^2*C)/(2*D)))/4)\n",
    "\n",
    "\n",
    "p <- df %>% \n",
    "    ggplot() + \n",
    "    geom_tile(aes(x = P_2, y = P_3, fill = MI)) + \n",
    "    theme_minimal() + \n",
    "    scale_x_continuous(expand = c(0,0), limits = c(0, 1)) + \n",
    "    scale_y_continuous(expand = c(0,0), limits = c(0, 1)) + \n",
    "    xlab(expression(p[2])) + \n",
    "    ylab(expression(p[3])) + \n",
    "    theme(panel.grid = element_blank(), panel.spacing = unit(2, \"lines\")) + \n",
    "    coord_fixed() + \n",
    "    facet_wrap(~EV) + \n",
    "    guides(alpha = FALSE, fill = guide_colorbar(title = \"NMI\")) + \n",
    "    ggtitle(\"Recovery experiments in synthetic hypergraphs\", \n",
    "            subtitle = \"Mean mutual information over 20 trials\") + \n",
    "    geom_line(aes(x = P_2, y = P_3), data = curve, color = \"white\") + \n",
    "    geom_line(aes(x = P_2, y = Q_3), data = curve, color = \"white\") + \n",
    "    annotate(\"text\", x = 0.5, y = 0.25, label = \"Undetectable\", color = \"white\", size = 3) + \n",
    "    scale_fill_viridis(option = \"inferno\", limits = c(0, 1))\n",
    "\n",
    "ggsave(\"fig/linearized-bp-heatmap-with-annotation-2-panel.png\", p,  width = 8, height = 4)\n",
    "\"\"\""
   ]
  }
 ],
 "metadata": {
  "kernelspec": {
   "display_name": "Julia 1.4.2 (multithreaded)",
   "language": "julia",
   "name": "julia-12-threads-1.4"
  },
  "language_info": {
   "file_extension": ".jl",
   "mimetype": "application/julia",
   "name": "julia",
   "version": "1.4.2"
  }
 },
 "nbformat": 4,
 "nbformat_minor": 4
}
