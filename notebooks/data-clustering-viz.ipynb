{
 "cells": [
  {
   "cell_type": "code",
   "execution_count": 1,
   "metadata": {},
   "outputs": [
    {
     "name": "stderr",
     "output_type": "stream",
     "text": [
      "┌ Info: Precompiling HypergraphNB [2dbe4ab3-0c84-4f8d-86d2-f64d6d698dce]\n",
      "└ @ Base loading.jl:1260\n",
      "┌ Warning: Package HypergraphNB does not have StatsBase in its dependencies:\n",
      "│ - If you have HypergraphNB checked out for development and have\n",
      "│   added StatsBase as a dependency but haven't updated your primary\n",
      "│   environment's manifest file, try `Pkg.resolve()`.\n",
      "│ - Otherwise you may need to report an issue with HypergraphNB\n",
      "└ Loading StatsBase into HypergraphNB from project dependency, future warnings for HypergraphNB are suppressed.\n"
     ]
    }
   ],
   "source": [
    "using Revise\n",
    "using RCall\n",
    "using HypergraphNB\n",
    "using Arpack\n",
    "using MultivariateStats\n",
    "using StatsBase\n",
    "using DataFrames"
   ]
  },
  {
   "cell_type": "code",
   "execution_count": 2,
   "metadata": {},
   "outputs": [
    {
     "data": {
      "text/plain": [
       "createViz (generic function with 1 method)"
      ]
     },
     "execution_count": 2,
     "metadata": {},
     "output_type": "execute_result"
    }
   ],
   "source": [
    "function createViz(data_name, figure_path; nev = 30, nev_to_plot = 10)\n",
    "    \n",
    "    path      = \"throughput/data-throughput/\"*data_name*\".csv\"\n",
    "    proj_path = \"throughput/data-throughput/\"*data_name*\"-projected.csv\"\n",
    "\n",
    "\n",
    "    label_path = \"data/\"*data_name*\"/label-names-\"*data_name*\".txt\"\n",
    "    \n",
    "    H, z = HypergraphNB.read_hypergraph_data(data_name);\n",
    "    \n",
    "    \n",
    "    B = reducedBPJacobian(H, z);    \n",
    "    E = Arpack.eigs(B; nev = nev, ritzvec = true)            \n",
    "    V = hcat([HypergraphNB.transform_eigenvector(real.(E[2][:,i]), H) for i ∈ 1:nev]...)\n",
    "    \n",
    "    V_ = 1.0*(V .> 0)\n",
    "    M = fit(PCA, V_; maxoutdim=4)\n",
    "    \n",
    "    K_ = sort(collect(keys(H.E)))\n",
    "\n",
    "    n = length(H.N)\n",
    "\n",
    "    c, G = degreeTensor(H, z);\n",
    "    q = 1/n * StatsBase.counts(z)\n",
    "    G_ = zero(G)\n",
    "    for i ∈ 1:length(K_)\n",
    "        G_[i,:,:] = (G[i,:,:] / ((K_[i] - 1) * c[i]) .- 1) .* q\n",
    "    end\n",
    "    \n",
    "    DF = DataFrame()\n",
    "\n",
    "    for i ∈ 1:length(unique(z))\n",
    "        id = zeros(0)\n",
    "        K = zeros(0)\n",
    "        value = zeros(0)\n",
    "        for k ∈ 1:size(G_, 1)\n",
    "            push!(id, i)\n",
    "            push!(value, G_[k,i,i])\n",
    "            push!(K, K_[k])\n",
    "        end\n",
    "        df = DataFrame(id = id, value = value, K = K)\n",
    "        DF = vcat(DF, df)\n",
    "    end\n",
    "        \n",
    "    legend_rows = length(unique(z)) > 2 ? 2 : 1 \n",
    "    \n",
    "    R\"\"\"\n",
    "    library(tidyverse)\n",
    "    library(viridis)\n",
    "    library(colorspace)\n",
    "    library(patchwork)\n",
    "    library(ggforce)\n",
    "    \n",
    "    \n",
    "    df  <- read_csv($(path)) %>% mutate(projected = \"Hypergraph\")\n",
    "    df_ <- read_csv($(proj_path)) %>% mutate(projected = \"Projected graph\")\n",
    "    \n",
    "    \n",
    "    df <- df %>% \n",
    "        rbind(df_) %>% \n",
    "        mutate(obj = cost_SS / tot_SS) \n",
    "    \n",
    "    best_df <- df %>% \n",
    "        filter(nev == $(nev_to_plot)) %>% \n",
    "        group_by(projected) %>% \n",
    "        filter(obj == min(obj, na.rm = T)) %>% \n",
    "        filter(row_number() == 1)\n",
    "    \n",
    "    p <- df %>% \n",
    "        filter(nev == $(nev_to_plot)) %>% \n",
    "        group_by(ngroups, projected) %>% \n",
    "        filter(obj == min(obj, na.rm = T)) %>% \n",
    "        filter(row_number() == 1) %>% \n",
    "        ggplot() + \n",
    "        geom_vline(aes(xintercept = factor($(length(unique(z))))), color = \"grey\") + \n",
    "        aes(x = factor(ngroups), y = ari, group = projected) +\n",
    "        geom_line(aes(linetype = projected), color = \"darkslategray\") +     \n",
    "        geom_point(color = \"darkslategray\", pch = 21, fill = \"white\") + \n",
    "#        geom_point(color = \"darkslategray\", pch = 21, fill = \"black\", data = best_df) + \n",
    "        theme_bw() + \n",
    "        theme(strip.background = element_blank(),\n",
    "              legend.position = \"bottom\",\n",
    "              panel.border = element_rect(color = NA)) + \n",
    "        scale_color_brewer(palette = \"Set2\") +\n",
    "        guides(color = guide_legend(title = element_blank()),\n",
    "               linetype = guide_legend(title = element_blank())) + \n",
    "        xlab(\"Number of estimated groups\") + \n",
    "        ylab(\"Adjusted Rand Index against ground truth\") +\n",
    "        scale_y_continuous(limits = c(NA, 1)) + \n",
    "        ggtitle(paste(\"Cluster recovery with\", $(nev_to_plot), \"eigenvectors\")) \n",
    "    \n",
    "\n",
    "    df <- tibble(z = $z, m1 = $(M.proj[:,1]), m2 = $(M.proj[:,2])) \n",
    "\n",
    "    labels <- read_csv($(label_path), col_names = c(\"name\")) %>% \n",
    "        mutate(id = row_number())\n",
    "\n",
    "    \n",
    "    q <- df %>% \n",
    "        left_join(labels, by = c(\"z\" = \"id\")) %>%  \n",
    "        ggplot() + \n",
    "        aes(x = m1, y = m2, color = name) + \n",
    "        ggforce::geom_mark_hull(aes(fill = name), alpha = 0.2) + \n",
    "        geom_point(pch = 21) + \n",
    "        theme_bw() +\n",
    "        xlab(\"1st principal component\") + \n",
    "        ylab(\"2nd principal component\") + \n",
    "        guides(color = guide_legend(title = element_blank(), nrow = $legend_rows),\n",
    "               fill = FALSE) + \n",
    "        scale_color_discrete_qualitative(palette = \"dynamic\") + \n",
    "        theme(panel.border = element_rect(color = NA),\n",
    "              legend.position = \"bottom\") + \n",
    "        ggtitle(\"Eigenspace visualization (via PCA)\")\n",
    "    \n",
    "    \n",
    "    r <- $(DF) %>% \n",
    "        left_join(labels, by = c(\"id\" = \"id\")) %>% \n",
    "        ggplot() + \n",
    "        aes(x = K, y = value, color = name, group = name) + \n",
    "        geom_line() + \n",
    "        geom_point(pch = 21, fill = \"white\") + \n",
    "        theme_bw() + \n",
    "        scale_color_discrete_qualitative(palette = \"dynamic\") + \n",
    "        guides(color = guide_legend(title = element_blank(), nrow = $legend_rows)) + \n",
    "        theme(panel.border = element_rect(color = NA),\n",
    "              legend.position = \"bottom\") + \n",
    "        xlab(expression(paste(\"Edge size \", italic(k)))) + \n",
    "        ylab(expression(paste(\"Affinity \", italic(c)))) + \n",
    "        ggtitle(\"Within-group affinities\")\n",
    "\n",
    "    p + q + r\n",
    "    \n",
    "    ggsave($(figure_path), width = 12, height = 4, dpi = 300)\n",
    "            \n",
    "    \"\"\"\n",
    "end"
   ]
  },
  {
   "cell_type": "code",
   "execution_count": 3,
   "metadata": {},
   "outputs": [
    {
     "name": "stderr",
     "output_type": "stream",
     "text": [
      "┌ Warning: RCall.jl: ── Attaching packages ─────────────────────────────────────── tidyverse 1.3.0 ──\n",
      "│ ✔ ggplot2 3.3.2     ✔ purrr   0.3.4\n",
      "│ ✔ tibble  3.0.3     ✔ dplyr   1.0.0\n",
      "│ ✔ tidyr   1.1.0     ✔ stringr 1.4.0\n",
      "│ ✔ readr   1.3.1     ✔ forcats 0.5.0\n",
      "│ ── Conflicts ────────────────────────────────────────── tidyverse_conflicts() ──\n",
      "│ ✖ dplyr::filter() masks stats::filter()\n",
      "│ ✖ dplyr::lag()    masks stats::lag()\n",
      "└ @ RCall /home/phil/.julia/packages/RCall/Qzssx/src/io.jl:160\n",
      "┌ Warning: RCall.jl: Loading required package: viridisLite\n",
      "└ @ RCall /home/phil/.julia/packages/RCall/Qzssx/src/io.jl:160\n",
      "┌ Warning: RCall.jl: Parsed with column specification:\n",
      "│ cols(\n",
      "│   ngroups = col_double(),\n",
      "│   nev = col_double(),\n",
      "│   tot_SS = col_double(),\n",
      "│   cost_SS = col_double(),\n",
      "│   ari = col_double(),\n",
      "│   round = col_double(),\n",
      "│   data = col_character()\n",
      "│ )\n",
      "└ @ RCall /home/phil/.julia/packages/RCall/Qzssx/src/io.jl:160\n",
      "┌ Warning: RCall.jl: Parsed with column specification:\n",
      "│ cols(\n",
      "│   ngroups = col_double(),\n",
      "│   nev = col_double(),\n",
      "│   tot_SS = col_double(),\n",
      "│   cost_SS = col_double(),\n",
      "│   ari = col_double(),\n",
      "│   round = col_double(),\n",
      "│   data = col_character()\n",
      "│ )\n",
      "└ @ RCall /home/phil/.julia/packages/RCall/Qzssx/src/io.jl:160\n",
      "┌ Warning: RCall.jl: Parsed with column specification:\n",
      "│ cols(\n",
      "│   name = col_character()\n",
      "│ )\n",
      "└ @ RCall /home/phil/.julia/packages/RCall/Qzssx/src/io.jl:160\n",
      "┌ Warning: RCall.jl: Warning: The concaveman package is required for geom_mark_hull\n",
      "└ @ RCall /home/phil/.julia/packages/RCall/Qzssx/src/io.jl:160\n"
     ]
    },
    {
     "data": {
      "text/plain": [
       "RObject{NilSxp}\n",
       "NULL\n"
      ]
     },
     "execution_count": 3,
     "metadata": {},
     "output_type": "execute_result"
    }
   ],
   "source": [
    "data_name = \"SN-congress-bills\"\n",
    "createViz(data_name, \"fig/\"*data_name*\".png\", nev_to_plot = 10)"
   ]
  },
  {
   "cell_type": "code",
   "execution_count": 4,
   "metadata": {},
   "outputs": [
    {
     "name": "stderr",
     "output_type": "stream",
     "text": [
      "┌ Warning: RCall.jl: Parsed with column specification:\n",
      "│ cols(\n",
      "│   ngroups = col_double(),\n",
      "│   nev = col_double(),\n",
      "│   tot_SS = col_double(),\n",
      "│   cost_SS = col_double(),\n",
      "│   ari = col_double(),\n",
      "│   round = col_double(),\n",
      "│   data = col_character()\n",
      "│ )\n",
      "└ @ RCall /home/phil/.julia/packages/RCall/Qzssx/src/io.jl:160\n",
      "┌ Warning: RCall.jl: Parsed with column specification:\n",
      "│ cols(\n",
      "│   ngroups = col_double(),\n",
      "│   nev = col_double(),\n",
      "│   tot_SS = col_double(),\n",
      "│   cost_SS = col_double(),\n",
      "│   ari = col_double(),\n",
      "│   round = col_double(),\n",
      "│   data = col_character()\n",
      "│ )\n",
      "└ @ RCall /home/phil/.julia/packages/RCall/Qzssx/src/io.jl:160\n",
      "┌ Warning: RCall.jl: Parsed with column specification:\n",
      "│ cols(\n",
      "│   name = col_character()\n",
      "│ )\n",
      "└ @ RCall /home/phil/.julia/packages/RCall/Qzssx/src/io.jl:160\n",
      "┌ Warning: RCall.jl: Warning: The concaveman package is required for geom_mark_hull\n",
      "└ @ RCall /home/phil/.julia/packages/RCall/Qzssx/src/io.jl:160\n"
     ]
    },
    {
     "data": {
      "text/plain": [
       "RObject{NilSxp}\n",
       "NULL\n"
      ]
     },
     "execution_count": 4,
     "metadata": {},
     "output_type": "execute_result"
    }
   ],
   "source": [
    "data_name = \"contact-high-school-classes\"\n",
    "createViz(data_name, \"fig/\"*data_name*\".png\", nev_to_plot = 30)"
   ]
  },
  {
   "cell_type": "code",
   "execution_count": 5,
   "metadata": {},
   "outputs": [
    {
     "name": "stderr",
     "output_type": "stream",
     "text": [
      "┌ Warning: RCall.jl: Parsed with column specification:\n",
      "│ cols(\n",
      "│   ngroups = col_double(),\n",
      "│   nev = col_double(),\n",
      "│   tot_SS = col_double(),\n",
      "│   cost_SS = col_double(),\n",
      "│   ari = col_double(),\n",
      "│   round = col_double(),\n",
      "│   data = col_character()\n",
      "│ )\n",
      "└ @ RCall /home/phil/.julia/packages/RCall/Qzssx/src/io.jl:160\n",
      "┌ Warning: RCall.jl: Parsed with column specification:\n",
      "│ cols(\n",
      "│   ngroups = col_double(),\n",
      "│   nev = col_double(),\n",
      "│   tot_SS = col_double(),\n",
      "│   cost_SS = col_double(),\n",
      "│   ari = col_double(),\n",
      "│   round = col_double(),\n",
      "│   data = col_character()\n",
      "│ )\n",
      "└ @ RCall /home/phil/.julia/packages/RCall/Qzssx/src/io.jl:160\n",
      "┌ Warning: RCall.jl: Parsed with column specification:\n",
      "│ cols(\n",
      "│   name = col_character()\n",
      "│ )\n",
      "└ @ RCall /home/phil/.julia/packages/RCall/Qzssx/src/io.jl:160\n",
      "┌ Warning: RCall.jl: Warning: The concaveman package is required for geom_mark_hull\n",
      "└ @ RCall /home/phil/.julia/packages/RCall/Qzssx/src/io.jl:160\n"
     ]
    },
    {
     "data": {
      "text/plain": [
       "RObject{NilSxp}\n",
       "NULL\n"
      ]
     },
     "execution_count": 5,
     "metadata": {},
     "output_type": "execute_result"
    }
   ],
   "source": [
    "data_name = \"contact-primary-school-classes\"\n",
    "createViz(data_name, \"fig/\"*data_name*\".png\", nev_to_plot = 30)"
   ]
  },
  {
   "cell_type": "code",
   "execution_count": 6,
   "metadata": {},
   "outputs": [
    {
     "name": "stderr",
     "output_type": "stream",
     "text": [
      "┌ Warning: RCall.jl: Parsed with column specification:\n",
      "│ cols(\n",
      "│   ngroups = col_double(),\n",
      "│   nev = col_double(),\n",
      "│   tot_SS = col_double(),\n",
      "│   cost_SS = col_double(),\n",
      "│   ari = col_double(),\n",
      "│   round = col_double(),\n",
      "│   data = col_character()\n",
      "│ )\n",
      "└ @ RCall /home/phil/.julia/packages/RCall/Qzssx/src/io.jl:160\n",
      "┌ Warning: RCall.jl: Parsed with column specification:\n",
      "│ cols(\n",
      "│   ngroups = col_double(),\n",
      "│   nev = col_double(),\n",
      "│   tot_SS = col_double(),\n",
      "│   cost_SS = col_double(),\n",
      "│   ari = col_double(),\n",
      "│   round = col_double(),\n",
      "│   data = col_character()\n",
      "│ )\n",
      "└ @ RCall /home/phil/.julia/packages/RCall/Qzssx/src/io.jl:160\n",
      "┌ Warning: RCall.jl: `summarise()` regrouping output by 'projected', 'ngroups' (override with `.groups` argument)\n",
      "└ @ RCall /home/phil/.julia/packages/RCall/Qzssx/src/io.jl:160\n"
     ]
    },
    {
     "data": {
      "image/png": "[encoded data removed]"
     },
     "metadata": {},
     "output_type": "display_data"
    },
    {
     "data": {
      "text/plain": [
       "RObject{VecSxp}\n"
      ]
     },
     "execution_count": 6,
     "metadata": {},
     "output_type": "execute_result"
    }
   ],
   "source": [
    "data_name = \"SN-congress-bills\"\n",
    "\n",
    "path      = \"throughput/data-throughput/\"*data_name*\".csv\"\n",
    "proj_path = \"throughput/data-throughput/\"*data_name*\"-projected.csv\"\n",
    "R\"\"\"\n",
    "df  <- read_csv($(path)) %>% mutate(projected = \"Hypergraph\")\n",
    "df_ <- read_csv($(proj_path)) %>% mutate(projected = \"Projected graph\")\n",
    "    \n",
    "    \n",
    "df <- df %>% \n",
    "    rbind(df_) %>% \n",
    "    mutate(obj = cost_SS / tot_SS) %>% \n",
    "    group_by(projected, ngroups, nev) %>% \n",
    "    filter(obj == min(obj, na.rm = T))\n",
    "\n",
    "\n",
    "\n",
    "df %>% \n",
    "    group_by(projected, ngroups, nev) %>% \n",
    "    summarise(obj = mean(obj, na.rm = T)) %>% \n",
    "    ggplot() + \n",
    "    aes(x = ngroups, y = obj, color = projected) + \n",
    "    geom_point() + \n",
    "    facet_wrap(~nev) + \n",
    "    ylim(c(0, 1))\n",
    "\n",
    "\"\"\""
   ]
  },
  {
   "cell_type": "code",
   "execution_count": 7,
   "metadata": {},
   "outputs": [
    {
     "name": "stderr",
     "output_type": "stream",
     "text": [
      "┌ Warning: RCall.jl: Parsed with column specification:\n",
      "│ cols(\n",
      "│   ngroups = col_double(),\n",
      "│   nev = col_double(),\n",
      "│   tot_SS = col_double(),\n",
      "│   cost_SS = col_double(),\n",
      "│   ari = col_double(),\n",
      "│   round = col_double(),\n",
      "│   data = col_character()\n",
      "│ )\n",
      "└ @ RCall /home/phil/.julia/packages/RCall/Qzssx/src/io.jl:160\n",
      "┌ Warning: RCall.jl: Parsed with column specification:\n",
      "│ cols(\n",
      "│   ngroups = col_double(),\n",
      "│   nev = col_double(),\n",
      "│   tot_SS = col_double(),\n",
      "│   cost_SS = col_double(),\n",
      "│   ari = col_double(),\n",
      "│   round = col_double(),\n",
      "│   data = col_character()\n",
      "│ )\n",
      "└ @ RCall /home/phil/.julia/packages/RCall/Qzssx/src/io.jl:160\n"
     ]
    },
    {
     "data": {
      "image/png": "[encoded data removed]"
     },
     "metadata": {},
     "output_type": "display_data"
    },
    {
     "data": {
      "text/plain": [
       "RObject{VecSxp}\n"
      ]
     },
     "execution_count": 7,
     "metadata": {},
     "output_type": "execute_result"
    }
   ],
   "source": [
    "data_name = \"contact-high-school-classes\"\n",
    "\n",
    "path      = \"throughput/data-throughput/\"*data_name*\".csv\"\n",
    "proj_path = \"throughput/data-throughput/\"*data_name*\"-projected.csv\"\n",
    "R\"\"\"\n",
    "df  <- read_csv($(path)) %>% mutate(projected = \"Hypergraph\")\n",
    "df_ <- read_csv($(proj_path)) %>% mutate(projected = \"Projected graph\")\n",
    "    \n",
    "    \n",
    "df <- df %>% \n",
    "    rbind(df_) %>% \n",
    "    mutate(obj = cost_SS / tot_SS) %>% \n",
    "    group_by(projected, ngroups, nev) %>% \n",
    "    filter(obj == min(obj, na.rm = T))\n",
    "\n",
    "\n",
    "\n",
    "df %>% \n",
    "    ggplot() + \n",
    "    aes(x = ngroups, y = obj, color = projected) + \n",
    "    geom_point() + \n",
    "    geom_line() + \n",
    "    facet_wrap(~nev) + \n",
    "    ylim(c(NA, 1))\n",
    "\n",
    "\"\"\""
   ]
  },
  {
   "cell_type": "code",
   "execution_count": 30,
   "metadata": {},
   "outputs": [
    {
     "data": {
      "text/plain": [
       "createViz2 (generic function with 1 method)"
      ]
     },
     "execution_count": 30,
     "metadata": {},
     "output_type": "execute_result"
    }
   ],
   "source": [
    "function createViz2(data_name, figure_path; nev = 30, nev_to_plot = 10)\n",
    "    \n",
    "    path      = \"throughput/data-throughput/\"*data_name*\".csv\"\n",
    "    proj_path = \"throughput/data-throughput/\"*data_name*\"-projected.csv\"\n",
    "\n",
    "\n",
    "    label_path = \"data/\"*data_name*\"/label-names-\"*data_name*\".txt\"\n",
    "    \n",
    "    H, z = HypergraphNB.read_hypergraph_data(data_name);\n",
    "    \n",
    "    n = length(H.N)\n",
    "    K_ = sort(collect(keys(H.E)))\n",
    "    \n",
    "    c, G = degreeTensor(H, z);\n",
    "    q = 1/n * StatsBase.counts(z)\n",
    "    G_ = zero(G)\n",
    "    for i ∈ 1:length(K_)\n",
    "        G_[i,:,:] = (G[i,:,:] / ((K_[i] - 1) * c[i]) .- 1) .* q\n",
    "    end\n",
    "    \n",
    "    DF = DataFrame()\n",
    "\n",
    "    for i ∈ 1:length(unique(z))\n",
    "        id = zeros(0)\n",
    "        K = zeros(0)\n",
    "        value = zeros(0)\n",
    "        for k ∈ 1:size(G_, 1)\n",
    "            push!(id, i)\n",
    "            push!(value, G_[k,i,i])\n",
    "            push!(K, K_[k])\n",
    "        end\n",
    "        df = DataFrame(id = id, value = value, K = K)\n",
    "        DF = vcat(DF, df)\n",
    "    end\n",
    "        \n",
    "    legend_rows = length(unique(z)) > 2 ? 2 : 1 \n",
    "    \n",
    "    R\"\"\"\n",
    "    library(tidyverse)\n",
    "    library(viridis)\n",
    "    library(colorspace)\n",
    "    library(patchwork)\n",
    "    library(ggforce)\n",
    "    \n",
    "    \n",
    "    df  <- read_csv($(path)) %>% mutate(projected = \"Hypergraph\")\n",
    "    df_ <- read_csv($(proj_path)) %>% mutate(projected = \"Projected graph\")\n",
    "    \n",
    "    \n",
    "    df <- df %>% \n",
    "        rbind(df_) %>% \n",
    "        mutate(obj = cost_SS / tot_SS) \n",
    "    \n",
    "    best_df <- df %>% \n",
    "        filter(nev == $(nev_to_plot)) %>% \n",
    "        group_by(projected) %>% \n",
    "        filter(obj == min(obj, na.rm = T)) %>% \n",
    "        filter(row_number() == 1)\n",
    "    \n",
    "    q <- df %>% \n",
    "        filter(nev == $(nev_to_plot)) %>% \n",
    "        group_by(ngroups, projected) %>% \n",
    "        filter(obj == min(obj, na.rm = T)) %>% \n",
    "        filter(row_number() == 1) %>% \n",
    "        ggplot() + \n",
    "        geom_vline(aes(xintercept = factor($(length(unique(z))))), color = \"grey\") + \n",
    "        aes(x = factor(ngroups), y = obj, group = projected) +\n",
    "        geom_line(aes(linetype = projected), color = \"firebrick\") +     \n",
    "        geom_point(color = \"firebrick\", pch = 21, fill = \"white\") + \n",
    "#        geom_point(color = \"darkslategray\", pch = 21, fill = \"black\", data = best_df) + \n",
    "        theme_bw() + \n",
    "        theme(strip.background = element_blank(),\n",
    "              legend.position = \"bottom\",\n",
    "              panel.border = element_rect(color = NA), \n",
    "              legend.text = element_text(size = 11)) + \n",
    "        scale_color_brewer(palette = \"Set2\") +\n",
    "        guides(color = guide_legend(title = element_blank()),\n",
    "               linetype = guide_legend(title = element_blank())) + \n",
    "        xlab(\"Number of groups ℓ\") + \n",
    "        ylab(\"Proportion of within-group variance\") +\n",
    "        scale_y_continuous(limits = c(NA, 1)) + \n",
    "        ggtitle(paste(\"Scree plot with\", $(nev_to_plot), \"eigenvectors\")) \n",
    "    \n",
    "    \n",
    "    \n",
    "    \n",
    "    p <- df %>% \n",
    "        filter(nev == $(nev_to_plot)) %>% \n",
    "        group_by(ngroups, projected) %>% \n",
    "        filter(obj == min(obj, na.rm = T)) %>% \n",
    "        filter(row_number() == 1) %>% \n",
    "        ggplot() + \n",
    "        geom_vline(aes(xintercept = factor($(length(unique(z))))), color = \"grey\") + \n",
    "        aes(x = factor(ngroups), y = ari, group = projected) +\n",
    "        geom_line(aes(linetype = projected), color = \"darkslategray\") +     \n",
    "        geom_point(color = \"darkslategray\", pch = 21, fill = \"white\") + \n",
    "#        geom_point(color = \"darkslategray\", pch = 21, fill = \"black\", data = best_df) + \n",
    "        theme_bw() + \n",
    "        theme(strip.background = element_blank(),\n",
    "              legend.position = \"bottom\",\n",
    "              panel.border = element_rect(color = NA), \n",
    "              legend.text = element_text(size = 11)) + \n",
    "        scale_color_brewer(palette = \"Set2\") +\n",
    "        guides(color = guide_legend(title = element_blank()),\n",
    "               linetype = guide_legend(title = element_blank())) + \n",
    "        xlab(expression(\"Number of groups ℓ\")) + \n",
    "        ylab(\"Adjusted Rand Index against ground truth\") +\n",
    "        scale_y_continuous(limits = c(NA, 1)) + \n",
    "        ggtitle(paste(\"Cluster recovery with\", $(nev_to_plot), \"eigenvectors\")) \n",
    "    \n",
    "    labels <- read_csv($(label_path), col_names = c(\"name\")) %>% \n",
    "        mutate(id = row_number())\n",
    "    \n",
    "    r <- $(DF) %>% \n",
    "        left_join(labels, by = c(\"id\" = \"id\")) %>% \n",
    "        ggplot() + \n",
    "        aes(x = K, y = value, color = name, group = name) + \n",
    "        geom_line() + \n",
    "        geom_point(pch = 21, fill = \"white\") + \n",
    "        theme_bw() + \n",
    "        scale_color_discrete_qualitative(palette = \"dynamic\") + \n",
    "        guides(color = guide_legend(title = element_blank(), nrow = $legend_rows)) + \n",
    "        theme(panel.border = element_rect(color = NA),\n",
    "              legend.position = \"bottom\", \n",
    "              legend.text = element_text(size = 9)) + \n",
    "        xlab(expression(paste(\"Edge size \", italic(k)))) + \n",
    "        ylab(expression(paste(\"Affinity \", italic(c)))) + \n",
    "        ggtitle(\"Within-group affinities\")\n",
    "\n",
    "    (q + p + plot_layout(guides = \"auto\")) + r \n",
    "    \n",
    "    ggsave($(figure_path), width = 12, height = 4, dpi = 300)\n",
    "            \n",
    "    \"\"\"\n",
    "end"
   ]
  },
  {
   "cell_type": "code",
   "execution_count": 31,
   "metadata": {},
   "outputs": [
    {
     "name": "stderr",
     "output_type": "stream",
     "text": [
      "┌ Warning: RCall.jl: Parsed with column specification:\n",
      "│ cols(\n",
      "│   ngroups = col_double(),\n",
      "│   nev = col_double(),\n",
      "│   tot_SS = col_double(),\n",
      "│   cost_SS = col_double(),\n",
      "│   ari = col_double(),\n",
      "│   round = col_double(),\n",
      "│   data = col_character()\n",
      "│ )\n",
      "└ @ RCall /home/phil/.julia/packages/RCall/Qzssx/src/io.jl:160\n",
      "┌ Warning: RCall.jl: Parsed with column specification:\n",
      "│ cols(\n",
      "│   ngroups = col_double(),\n",
      "│   nev = col_double(),\n",
      "│   tot_SS = col_double(),\n",
      "│   cost_SS = col_double(),\n",
      "│   ari = col_double(),\n",
      "│   round = col_double(),\n",
      "│   data = col_character()\n",
      "│ )\n",
      "└ @ RCall /home/phil/.julia/packages/RCall/Qzssx/src/io.jl:160\n",
      "┌ Warning: RCall.jl: Parsed with column specification:\n",
      "│ cols(\n",
      "│   name = col_character()\n",
      "│ )\n",
      "└ @ RCall /home/phil/.julia/packages/RCall/Qzssx/src/io.jl:160\n"
     ]
    },
    {
     "data": {
      "text/plain": [
       "RObject{NilSxp}\n",
       "NULL\n"
      ]
     },
     "execution_count": 31,
     "metadata": {},
     "output_type": "execute_result"
    }
   ],
   "source": [
    "data_name = \"contact-primary-school-classes\"\n",
    "createViz2(data_name, \"fig/\"*data_name*\"2.png\", nev_to_plot = 30)"
   ]
  },
  {
   "cell_type": "code",
   "execution_count": 32,
   "metadata": {},
   "outputs": [
    {
     "name": "stderr",
     "output_type": "stream",
     "text": [
      "┌ Warning: RCall.jl: Parsed with column specification:\n",
      "│ cols(\n",
      "│   ngroups = col_double(),\n",
      "│   nev = col_double(),\n",
      "│   tot_SS = col_double(),\n",
      "│   cost_SS = col_double(),\n",
      "│   ari = col_double(),\n",
      "│   round = col_double(),\n",
      "│   data = col_character()\n",
      "│ )\n",
      "└ @ RCall /home/phil/.julia/packages/RCall/Qzssx/src/io.jl:160\n",
      "┌ Warning: RCall.jl: Parsed with column specification:\n",
      "│ cols(\n",
      "│   ngroups = col_double(),\n",
      "│   nev = col_double(),\n",
      "│   tot_SS = col_double(),\n",
      "│   cost_SS = col_double(),\n",
      "│   ari = col_double(),\n",
      "│   round = col_double(),\n",
      "│   data = col_character()\n",
      "│ )\n",
      "└ @ RCall /home/phil/.julia/packages/RCall/Qzssx/src/io.jl:160\n",
      "┌ Warning: RCall.jl: Parsed with column specification:\n",
      "│ cols(\n",
      "│   name = col_character()\n",
      "│ )\n",
      "└ @ RCall /home/phil/.julia/packages/RCall/Qzssx/src/io.jl:160\n"
     ]
    },
    {
     "data": {
      "text/plain": [
       "RObject{NilSxp}\n",
       "NULL\n"
      ]
     },
     "execution_count": 32,
     "metadata": {},
     "output_type": "execute_result"
    }
   ],
   "source": [
    "data_name = \"contact-high-school-classes\"\n",
    "createViz2(data_name, \"fig/\"*data_name*\"2.png\", nev_to_plot = 30)"
   ]
  },
  {
   "cell_type": "code",
   "execution_count": 33,
   "metadata": {},
   "outputs": [
    {
     "name": "stderr",
     "output_type": "stream",
     "text": [
      "┌ Warning: RCall.jl: Parsed with column specification:\n",
      "│ cols(\n",
      "│   ngroups = col_double(),\n",
      "│   nev = col_double(),\n",
      "│   tot_SS = col_double(),\n",
      "│   cost_SS = col_double(),\n",
      "│   ari = col_double(),\n",
      "│   round = col_double(),\n",
      "│   data = col_character()\n",
      "│ )\n",
      "└ @ RCall /home/phil/.julia/packages/RCall/Qzssx/src/io.jl:160\n",
      "┌ Warning: RCall.jl: Parsed with column specification:\n",
      "│ cols(\n",
      "│   ngroups = col_double(),\n",
      "│   nev = col_double(),\n",
      "│   tot_SS = col_double(),\n",
      "│   cost_SS = col_double(),\n",
      "│   ari = col_double(),\n",
      "│   round = col_double(),\n",
      "│   data = col_character()\n",
      "│ )\n",
      "└ @ RCall /home/phil/.julia/packages/RCall/Qzssx/src/io.jl:160\n",
      "┌ Warning: RCall.jl: Parsed with column specification:\n",
      "│ cols(\n",
      "│   name = col_character()\n",
      "│ )\n",
      "└ @ RCall /home/phil/.julia/packages/RCall/Qzssx/src/io.jl:160\n"
     ]
    },
    {
     "data": {
      "text/plain": [
       "RObject{NilSxp}\n",
       "NULL\n"
      ]
     },
     "execution_count": 33,
     "metadata": {},
     "output_type": "execute_result"
    }
   ],
   "source": [
    "data_name = \"SN-congress-bills\"\n",
    "createViz2(data_name, \"fig/\"*data_name*\"2.png\", nev_to_plot = 20)"
   ]
  },
  {
   "cell_type": "code",
   "execution_count": null,
   "metadata": {},
   "outputs": [],
   "source": []
  },
  {
   "cell_type": "code",
   "execution_count": null,
   "metadata": {},
   "outputs": [],
   "source": []
  }
 ],
 "metadata": {
  "kernelspec": {
   "display_name": "Julia 1.4.2",
   "language": "julia",
   "name": "julia-1.4"
  },
  "language_info": {
   "file_extension": ".jl",
   "mimetype": "application/julia",
   "name": "julia",
   "version": "1.4.2"
  }
 },
 "nbformat": 4,
 "nbformat_minor": 4
}
