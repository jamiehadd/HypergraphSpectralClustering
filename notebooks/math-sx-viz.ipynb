{
 "cells": [
  {
   "cell_type": "markdown",
   "metadata": {},
   "source": [
    "# Fun l'il clustering of math topics!?! "
   ]
  },
  {
   "cell_type": "code",
   "execution_count": 151,
   "metadata": {},
   "outputs": [],
   "source": [
    "using HypergraphNB\n",
    "using Arpack\n",
    "using StatsBase\n",
    "using Clustering\n",
    "using MultivariateStats\n",
    "using RCall\n",
    "using DataFrames\n",
    "using TSne\n",
    "using LinearAlgebra"
   ]
  },
  {
   "cell_type": "code",
   "execution_count": 140,
   "metadata": {},
   "outputs": [
    {
     "data": {
      "text/plain": [
       "read_unlabeled_data (generic function with 1 method)"
      ]
     },
     "execution_count": 140,
     "metadata": {},
     "output_type": "execute_result"
    }
   ],
   "source": [
    "function read_unlabeled_data(dataname)\n",
    "    ix = Int64[]\n",
    "    open(\"data/$dataname/hyperedges-$dataname.txt\") do f \n",
    "        for line in eachline(f)\n",
    "            push!(ix, parse(Int64, line))\n",
    "        end\n",
    "    end\n",
    "    \n",
    "    E = Dict()\n",
    "    i = 1\n",
    "    open(\"data/$dataname/nverts-$dataname.txt\") do f\n",
    "        for line in eachline(f)\n",
    "            m = parse(Int64, line)\n",
    "                \n",
    "            try\n",
    "                e = ix[i:(m+i-1)]\n",
    "                i += m\n",
    "\n",
    "                e = sort(e)\n",
    "                k = length(e)\n",
    "                if k ∈ keys(E)\n",
    "                    E[k][e] = get(E[k], e, 0) + 1\n",
    "                else\n",
    "                    E[k] = Dict()\n",
    "                end\n",
    "            catch er\n",
    "            end\n",
    "        end\n",
    "    end\n",
    "    \n",
    "    labels = String[]\n",
    "    open(\"data/$dataname/node-labels-$dataname.txt\") do f\n",
    "        for line in eachline(f)\n",
    "            push!(labels, line)\n",
    "        end\n",
    "    end\n",
    "    \n",
    "    return hypergraph(unique(ix), E), labels\n",
    "end"
   ]
  },
  {
   "cell_type": "code",
   "execution_count": 141,
   "metadata": {},
   "outputs": [],
   "source": [
    "H, labels = read_unlabeled_data(\"tags-math-sx\");"
   ]
  },
  {
   "cell_type": "code",
   "execution_count": 142,
   "metadata": {},
   "outputs": [
    {
     "data": {
      "text/plain": [
       "720.0126849894292"
      ]
     },
     "execution_count": 142,
     "metadata": {},
     "output_type": "execute_result"
    }
   ],
   "source": [
    "M = [HypergraphNB.degreeMatrix(H,k) |> diag |> sum for k in 2:5] |> sum\n",
    "M / length(H.N)"
   ]
  },
  {
   "cell_type": "markdown",
   "metadata": {},
   "source": [
    "# More Systematic"
   ]
  },
  {
   "cell_type": "code",
   "execution_count": 143,
   "metadata": {},
   "outputs": [
    {
     "data": {
      "text/plain": [
       "experiment (generic function with 5 methods)"
      ]
     },
     "execution_count": 143,
     "metadata": {},
     "output_type": "execute_result"
    }
   ],
   "source": [
    "function experiment(H, n_groups, n_rounds = 1, nev=10, km_iter = 10, projected = false)\n",
    "    if projected\n",
    "        H = HypergraphNB.projectedGraph(H);\n",
    "    end\n",
    "    \n",
    "    ẑ = rand(1:n_groups, length(H.N));\n",
    "    obj = 1\n",
    "    V̂ = 0\n",
    "    \n",
    "    for i ∈ 1:n_rounds\n",
    "        println(\"Round $i\")\n",
    "        B = reducedBPJacobian(H, ẑ);\n",
    "        E = Arpack.eigs(B; nev = nev);\n",
    "        V = hcat([HypergraphNB.transform_eigenvector(real.(E[2][:,i]), H) for i ∈ 1:nev]...);\n",
    "        V = real.(V)'\n",
    "        V = 1.0*(V .> 0 )\n",
    "        tot_ss = (V .- mean(V, dims = 1)).^2 |> sum\n",
    "            \n",
    "        for j ∈ 1:km_iter\n",
    "            clus = Clustering.kmeans(V, n_groups)\n",
    "            cost_ss = clus.totalcost\n",
    "            if cost_ss / tot_ss < obj\n",
    "                ẑ = Clustering.assignments(clus);\n",
    "                obj = cost_ss / tot_ss\n",
    "                V̂ = V\n",
    "            end    \n",
    "        end\n",
    "    end\n",
    "    return ẑ, V̂, obj\n",
    "end"
   ]
  },
  {
   "cell_type": "markdown",
   "metadata": {},
   "source": [
    "## Projected"
   ]
  },
  {
   "cell_type": "code",
   "execution_count": 144,
   "metadata": {},
   "outputs": [
    {
     "name": "stdout",
     "output_type": "stream",
     "text": [
      "starting epoch 1\n",
      "Round 1\n",
      "Round 2\n",
      "Round 3\n",
      "Round 4\n",
      "Round 5\n",
      "Round 6\n",
      "Round 7\n",
      "Round 8\n",
      "Round 9\n",
      "Round 10\n",
      "Current best objective is 0.6190663438037658\n",
      "starting epoch 2\n",
      "Round 1\n",
      "Round 2\n",
      "Round 3\n",
      "Round 4\n",
      "Round 5\n",
      "Round 6\n",
      "Round 7\n",
      "Round 8\n",
      "Round 9\n",
      "Round 10\n",
      "Current best objective is 0.6190663438037658\n",
      "starting epoch 3\n",
      "Round 1\n",
      "Round 2\n",
      "Round 3\n",
      "Round 4\n",
      "Round 5\n",
      "Round 6\n",
      "Round 7\n",
      "Round 8\n",
      "Round 9\n",
      "Round 10\n",
      "Current best objective is 0.6190663438037658\n",
      "starting epoch 4\n",
      "Round 1\n",
      "Round 2\n",
      "Round 3\n",
      "Round 4\n",
      "Round 5\n",
      "Round 6\n",
      "Round 7\n",
      "Round 8\n",
      "Round 9\n",
      "Round 10\n",
      "Current best objective is 0.6077335952311783\n",
      "starting epoch 5\n",
      "Round 1\n",
      "Round 2\n",
      "Round 3\n",
      "Round 4\n",
      "Round 5\n",
      "Round 6\n",
      "Round 7\n",
      "Round 8\n",
      "Round 9\n",
      "Round 10\n",
      "Current best objective is 0.6077335952311783\n",
      "starting epoch 6\n",
      "Round 1\n",
      "Round 2\n",
      "Round 3\n",
      "Round 4\n",
      "Round 5\n",
      "Round 6\n",
      "Round 7\n",
      "Round 8\n",
      "Round 9\n",
      "Round 10\n",
      "Current best objective is 0.590277163855346\n",
      "starting epoch 7\n",
      "Round 1\n",
      "Round 2\n",
      "Round 3\n",
      "Round 4\n",
      "Round 5\n",
      "Round 6\n",
      "Round 7\n",
      "Round 8\n",
      "Round 9\n",
      "Round 10\n",
      "Current best objective is 0.590277163855346\n",
      "starting epoch 8\n",
      "Round 1\n",
      "Round 2\n",
      "Round 3\n",
      "Round 4\n",
      "Round 5\n",
      "Round 6\n",
      "Round 7\n",
      "Round 8\n",
      "Round 9\n",
      "Round 10\n",
      "Current best objective is 0.590277163855346\n",
      "starting epoch 9\n",
      "Round 1\n",
      "Round 2\n",
      "Round 3\n",
      "Round 4\n",
      "Round 5\n",
      "Round 6\n",
      "Round 7\n",
      "Round 8\n",
      "Round 9\n",
      "Round 10\n",
      "Current best objective is 0.590277163855346\n",
      "starting epoch 10\n",
      "Round 1\n",
      "Round 2\n",
      "Round 3\n",
      "Round 4\n",
      "Round 5\n",
      "Round 6\n",
      "Round 7\n",
      "Round 8\n",
      "Round 9\n",
      "Round 10\n",
      "Current best objective is 0.590277163855346\n"
     ]
    }
   ],
   "source": [
    "n_groups = 3\n",
    "best_ẑ_ = rand(1:n_groups, length(H.N));\n",
    "best_V̂_ = nothing\n",
    "best_obj_ = 1.0\n",
    "\n",
    "for i ∈ 1:10\n",
    "    println(\"starting epoch $i\")\n",
    "    ẑ, V̂, obj = experiment(H, n_groups, 10, 10, 10, true)\n",
    "    if obj < best_obj_\n",
    "        best_obj_ = obj\n",
    "        best_ẑ_ = ẑ\n",
    "        best_V̂_ = V̂\n",
    "    end\n",
    "    println(\"Current best objective is $best_obj_\")\n",
    "end"
   ]
  },
  {
   "cell_type": "code",
   "execution_count": 145,
   "metadata": {},
   "outputs": [
    {
     "data": {
      "image/png": "[encoded data removed]"
     },
     "metadata": {},
     "output_type": "display_data"
    },
    {
     "data": {
      "text/plain": [
       "RObject{VecSxp}\n"
      ]
     },
     "execution_count": 145,
     "metadata": {},
     "output_type": "execute_result"
    }
   ],
   "source": [
    "M = fit(PCA, best_V̂_'; maxoutdim=2)\n",
    "\n",
    "R\"\"\"\n",
    "library(tidyverse)\n",
    "library(ggrepel)\n",
    "library(colorspace)\n",
    "\n",
    "\n",
    "df <- tibble(m1 = $(M.proj[:,1]), m2 = $(M.proj[:,2]), label = $(labels[1:length(H.N)]), group = $best_ẑ_) %>% \n",
    "    mutate(number = as.integer(word(label, 1)),\n",
    "           label = str_replace(label, \"[0-9]+ \", \"\"))\n",
    "\n",
    "highlights <- c(\"calculus\", \"infinity\", \"limits\") \n",
    "\n",
    "examples <- df %>% \n",
    "    filter(number < 25) %>%\n",
    "    mutate(is_highlight = map_lgl(label, function(x) x %in% highlights),\n",
    "           face = ifelse(is_highlight, \"bold\", \"plain\")) \n",
    "\n",
    "df <- df %>% \n",
    "    filter(m1 <= max(examples$m1), \n",
    "           m1 >= min(examples$m1),\n",
    "           m2 <= max(examples$m2),\n",
    "           m2 >= min(examples$m2))\n",
    "\n",
    "q <- df %>% \n",
    "    ggplot() + \n",
    "    aes(x = m1, y = m2) + \n",
    "    geom_point(aes(color = factor(group)), pch = 21) + \n",
    "    theme_minimal() + \n",
    "    geom_label_repel(aes(label = label, fill = factor(group)), data = examples, force = 30, max.overlaps = 30) + \n",
    "    guides(color = F, fill = F) + \n",
    "    ggtitle(\"Projected graph\") + \n",
    "    scale_fill_discrete_qualitative(palette = \"Pastel 1\") + \n",
    "    scale_color_discrete_qualitative(palette = \"Pastel 1\") + \n",
    "    xlab(\"First principal component\") + \n",
    "    ylab(\"Second principal component\") + \n",
    "    scale_y_continuous(expand = c(-0.02, 0.02))\n",
    "\n",
    "\"\"\""
   ]
  },
  {
   "cell_type": "markdown",
   "metadata": {},
   "source": [
    "## Unprojected"
   ]
  },
  {
   "cell_type": "code",
   "execution_count": null,
   "metadata": {},
   "outputs": [
    {
     "name": "stdout",
     "output_type": "stream",
     "text": [
      "starting epoch 1\n",
      "Round 1\n",
      "Round 2\n",
      "Round 3\n",
      "Round 4\n",
      "Round 5\n",
      "Round 6\n",
      "Round 7\n",
      "Round 8\n",
      "Round 9\n",
      "Round 10\n",
      "Current best objective is 0.5145303391996588\n",
      "starting epoch 2\n",
      "Round 1\n",
      "Round 2\n",
      "Round 3\n",
      "Round 4\n",
      "Round 5\n",
      "Round 6\n",
      "Round 7\n",
      "Round 8\n",
      "Round 9\n",
      "Round 10\n",
      "Current best objective is 0.5145303391996588\n",
      "starting epoch 3\n",
      "Round 1\n",
      "Round 2\n",
      "Round 3\n",
      "Round 4\n",
      "Round 5\n",
      "Round 6\n",
      "Round 7\n",
      "Round 8\n",
      "Round 9\n",
      "Round 10\n",
      "Current best objective is 0.4686937714505963\n",
      "starting epoch 4\n",
      "Round 1\n",
      "Round 2\n",
      "Round 3\n",
      "Round 4\n",
      "Round 5\n",
      "Round 6\n",
      "Round 7\n",
      "Round 8\n",
      "Round 9\n",
      "Round 10\n",
      "Current best objective is 0.4686937714505963\n",
      "starting epoch 5\n",
      "Round 1\n",
      "Round 2\n",
      "Round 3\n",
      "Round 4\n",
      "Round 5\n",
      "Round 6\n",
      "Round 7\n",
      "Round 8\n",
      "Round 9\n",
      "Round 10\n",
      "Current best objective is 0.4401702944980726\n",
      "starting epoch 6\n",
      "Round 1\n",
      "Round 2\n",
      "Round 3\n",
      "Round 4\n",
      "Round 5\n",
      "Round 6\n",
      "Round 7\n",
      "Round 8\n",
      "Round 9\n",
      "Round 10\n",
      "Current best objective is 0.4401702944980726\n",
      "starting epoch 7\n",
      "Round 1\n",
      "Round 2\n",
      "Round 3\n",
      "Round 4\n",
      "Round 5\n"
     ]
    }
   ],
   "source": [
    "n_groups = 3\n",
    "best_ẑ = rand(1:n_groups, length(H.N));\n",
    "best_V̂ = nothing\n",
    "best_obj = 1.0\n",
    "\n",
    "for i ∈ 1:10\n",
    "    println(\"starting epoch $i\")\n",
    "    ẑ, V̂, obj = experiment(H, n_groups, 10, 10, 10, false)\n",
    "    if obj < best_obj\n",
    "        best_obj = obj\n",
    "        best_ẑ = ẑ\n",
    "        best_V̂ = V̂\n",
    "    end\n",
    "    println(\"Current best objective is $best_obj\")\n",
    "end"
   ]
  },
  {
   "cell_type": "code",
   "execution_count": 149,
   "metadata": {},
   "outputs": [
    {
     "data": {
      "image/png": "[encoded data removed]"
     },
     "metadata": {},
     "output_type": "display_data"
    },
    {
     "data": {
      "text/plain": [
       "RObject{VecSxp}\n"
      ]
     },
     "execution_count": 149,
     "metadata": {},
     "output_type": "execute_result"
    }
   ],
   "source": [
    "M = fit(PCA, best_V̂'; maxoutdim=2)\n",
    "\n",
    "R\"\"\"\n",
    "library(tidyverse)\n",
    "library(ggrepel)\n",
    "library(colorspace)\n",
    "\n",
    "\n",
    "df <- tibble(m1 = $(M.proj[:,1]), m2 = $(M.proj[:,2]), label = $(labels[1:length(H.N)]), group = $best_ẑ) %>% \n",
    "    mutate(number = as.integer(word(label, 1)),\n",
    "           label = str_replace(label, \"[0-9]+ \", \"\"))\n",
    "\n",
    "highlights <- c(\"calculus\", \"infinity\", \"limits\") \n",
    "\n",
    "examples <- df %>% \n",
    "    filter(number < 25) %>%\n",
    "    mutate(is_highlight = map_lgl(label, function(x) x %in% highlights),\n",
    "           face = ifelse(is_highlight, \"bold\", \"plain\")) \n",
    "\n",
    "df <- df %>% \n",
    "    filter(m1 <= max(examples$m1), \n",
    "           m1 >= min(examples$m1),\n",
    "           m2 <= max(examples$m2),\n",
    "           m2 >= min(examples$m2))\n",
    "\n",
    "r <- df %>% \n",
    "    ggplot() + \n",
    "    aes(x = m1, y = m2) + \n",
    "    geom_point(aes(color = factor(group)), pch = 21) + \n",
    "    theme_minimal() + \n",
    "    geom_label_repel(aes(label = label, fill = factor(group)), data = examples, force = 30, max.overlaps = 30) + \n",
    "    guides(color = F, fill = F) + \n",
    "    ggtitle(\"Hypergraph\") + \n",
    "    scale_fill_discrete_qualitative(palette = \"Pastel 1\") + \n",
    "    scale_color_discrete_qualitative(palette = \"Pastel 1\") + \n",
    "    xlab(\"First principal component\") + \n",
    "    ylab(\"Second principal component\") + \n",
    "    scale_y_continuous(expand = c(-0.02, 0.02))\n",
    "\n",
    "\"\"\""
   ]
  },
  {
   "cell_type": "code",
   "execution_count": 150,
   "metadata": {},
   "outputs": [
    {
     "data": {
      "text/plain": [
       "RObject{NilSxp}\n",
       "NULL\n"
      ]
     },
     "execution_count": 150,
     "metadata": {},
     "output_type": "execute_result"
    }
   ],
   "source": [
    "R\"\"\"\n",
    "library(patchwork)\n",
    "\n",
    "q + r + plot_annotation(tag_levels = 'A', tag_prefix = \"(\", tag_suffix = \").\")\n",
    "\n",
    "ggsave(\"fig/clustering-math.png\", width = 12, height = 5, dpi = 300)\n",
    "\"\"\""
   ]
  },
  {
   "cell_type": "code",
   "execution_count": null,
   "metadata": {},
   "outputs": [],
   "source": []
  }
 ],
 "metadata": {
  "kernelspec": {
   "display_name": "Julia 1.4.2",
   "language": "julia",
   "name": "julia-1.4"
  },
  "language_info": {
   "file_extension": ".jl",
   "mimetype": "application/julia",
   "name": "julia",
   "version": "1.4.2"
  }
 },
 "nbformat": 4,
 "nbformat_minor": 4
}
