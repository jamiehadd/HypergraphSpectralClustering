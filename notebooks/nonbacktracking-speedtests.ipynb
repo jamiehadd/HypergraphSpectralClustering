{
 "cells": [
  {
   "cell_type": "code",
   "execution_count": 438,
   "metadata": {},
   "outputs": [],
   "source": [
    "using Revise\n",
    "using HypergraphNB\n",
    "using DataFrames\n",
    "using Clustering\n",
    "using Statistics\n",
    "using RCall\n",
    "using Arpack\n",
    "using SparseArrays\n",
    "using Kronecker\n",
    "using StatsBase"
   ]
  },
  {
   "cell_type": "code",
   "execution_count": 398,
   "metadata": {},
   "outputs": [
    {
     "data": {
      "text/plain": [
       "0.7"
      ]
     },
     "execution_count": 398,
     "metadata": {},
     "output_type": "execute_result"
    }
   ],
   "source": [
    "n  = 1000\n",
    "c₂ = 10\n",
    "c₃ = 10\n",
    "z  = 1 .+ (1:n .> n/2);\n",
    "p₂ = 0.7\n",
    "p₃ = 0.7"
   ]
  },
  {
   "cell_type": "code",
   "execution_count": 399,
   "metadata": {},
   "outputs": [],
   "source": [
    "H = detectabilityData(n, c₂, c₃, p₂, p₃);"
   ]
  },
  {
   "cell_type": "code",
   "execution_count": 400,
   "metadata": {},
   "outputs": [
    {
     "data": {
      "text/plain": [
       "get_eig (generic function with 3 methods)"
      ]
     },
     "execution_count": 400,
     "metadata": {},
     "output_type": "execute_result"
    }
   ],
   "source": [
    "function get_eig(H, z, reduced)\n",
    "    BP_mat, ix = linearizedBPMatrix(H, z; reduced = reduced);\n",
    "    E = Arpack.eigs(BP_mat; nev = 2, ritzvec = true)\n",
    "    return E[2][:,2]\n",
    "end"
   ]
  },
  {
   "cell_type": "code",
   "execution_count": 440,
   "metadata": {},
   "outputs": [
    {
     "name": "stdout",
     "output_type": "stream",
     "text": [
      "  0.030484 seconds (231.66 k allocations: 14.229 MiB)\n",
      "  0.022086 seconds (291.24 k allocations: 8.187 MiB)\n",
      "  0.000012 seconds (3 allocations: 208 bytes)\n",
      "  0.051734 seconds (67.69 k allocations: 3.321 MiB)\n",
      "  0.209176 seconds (57.97 k allocations: 32.454 MiB, 3.94% gc time)\n"
     ]
    }
   ],
   "source": [
    "@time B, ix = reducedNonBacktrackingMatrices(H);\n",
    "@time c, C = degreeTensor(H, z);\n",
    "\n",
    "ẑ = z\n",
    "\n",
    "n = length(ẑ)\n",
    "@time q = 1/n * counts(z)\n",
    "\n",
    "\n",
    "T = zero(C)\n",
    "for k ∈ 1:size(C)[1]\n",
    "    T[k,:,:] = (C[k,:,:] / ((k - 1) * c[k]) .- 1) .* q\n",
    "end\n",
    "\n",
    "@time not_nan = [k for k ∈ 1:size(T)[1] if !isnan(T[k,1,1])]\n",
    "\n",
    "@time BP_mat = sum(Kronecker.kronecker(T[k,:,:], Bs[k]) for k ∈ not_nan);"
   ]
  },
  {
   "cell_type": "code",
   "execution_count": 410,
   "metadata": {},
   "outputs": [
    {
     "name": "stdout",
     "output_type": "stream",
     "text": [
      "  0.979698 seconds (522.93 k allocations: 144.497 MiB, 13.38% gc time)\n",
      "  0.151901 seconds (302 allocations: 1.304 MiB)\n"
     ]
    }
   ],
   "source": [
    "@time BP_mat, ix = linearizedBPMatrix(H, z; reduced = true);\n",
    "@time E = Arpack.eigs(BP_mat; nev = 2, ritzvec = true); "
   ]
  },
  {
   "cell_type": "code",
   "execution_count": 403,
   "metadata": {},
   "outputs": [
    {
     "name": "stdout",
     "output_type": "stream",
     "text": [
      " 77.195881 seconds (2.83 M allocations: 11.991 GiB, 0.15% gc time)\n",
      " 14.942768 seconds (302 allocations: 12.815 MiB)\n"
     ]
    }
   ],
   "source": [
    "@time BP_mat, ix = linearizedBPMatrix(H, z; reduced = false);\n",
    "@time E = Arpack.eigs(BP_mat; nev = 2, ritzvec = true); "
   ]
  },
  {
   "cell_type": "code",
   "execution_count": 330,
   "metadata": {},
   "outputs": [
    {
     "name": "stdout",
     "output_type": "stream",
     "text": [
      "  0.013594 seconds (21.96 k allocations: 2.428 MiB)\n",
      "  0.217122 seconds (47.90 k allocations: 33.133 MiB)\n"
     ]
    }
   ],
   "source": [
    "@time get_eig(H, z, true);\n",
    "@time get_eig(H, z, false);"
   ]
  },
  {
   "cell_type": "code",
   "execution_count": 331,
   "metadata": {},
   "outputs": [
    {
     "name": "stdout",
     "output_type": "stream",
     "text": [
      "  0.000863 seconds (9.40 k allocations: 685.875 KiB)\n",
      "  0.001048 seconds (359 allocations: 103.219 KiB)\n"
     ]
    }
   ],
   "source": [
    "@time B̂s = reducedNonBacktrackingMatrices(H);\n",
    "@time EV_  = Arpack.eigs(B̂s[3]; nev = 2, ritzvec = true);"
   ]
  },
  {
   "cell_type": "code",
   "execution_count": 332,
   "metadata": {},
   "outputs": [
    {
     "name": "stdout",
     "output_type": "stream",
     "text": [
      "  0.011495 seconds (35.52 k allocations: 2.710 MiB)\n",
      "  0.004640 seconds (376 allocations: 432.109 KiB)\n"
     ]
    }
   ],
   "source": [
    "@time Bs, ix = nonBacktrackingMatrices(H; return_indices = true);\n",
    "@time EV = Arpack.eigs(Bs[3]; nev = 2, ritzvec = true);"
   ]
  },
  {
   "cell_type": "code",
   "execution_count": 288,
   "metadata": {},
   "outputs": [
    {
     "data": {
      "text/plain": [
       "2-element Array{Complex{Float64},1}:\n",
       " 10.108651583616924 + 0.0im\n",
       "  6.157064385998919 + 0.0im"
      ]
     },
     "execution_count": 288,
     "metadata": {},
     "output_type": "execute_result"
    }
   ],
   "source": [
    "EV_[1]"
   ]
  },
  {
   "cell_type": "code",
   "execution_count": 289,
   "metadata": {},
   "outputs": [
    {
     "data": {
      "text/plain": [
       "2-element Array{Complex{Float64},1}:\n",
       " 10.10865158361692 + 0.0im\n",
       " 6.157064385998914 + 0.0im"
      ]
     },
     "execution_count": 289,
     "metadata": {},
     "output_type": "execute_result"
    }
   ],
   "source": [
    "\n",
    "EV[1]"
   ]
  },
  {
   "cell_type": "code",
   "execution_count": null,
   "metadata": {},
   "outputs": [],
   "source": []
  }
 ],
 "metadata": {
  "kernelspec": {
   "display_name": "Julia 1.4.2",
   "language": "julia",
   "name": "julia-1.4"
  },
  "language_info": {
   "file_extension": ".jl",
   "mimetype": "application/julia",
   "name": "julia",
   "version": "1.4.2"
  }
 },
 "nbformat": 4,
 "nbformat_minor": 4
}
