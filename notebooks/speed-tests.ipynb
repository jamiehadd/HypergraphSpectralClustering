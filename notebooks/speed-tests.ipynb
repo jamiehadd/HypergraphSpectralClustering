{
 "cells": [
  {
   "cell_type": "code",
   "execution_count": 1,
   "metadata": {},
   "outputs": [
    {
     "name": "stderr",
     "output_type": "stream",
     "text": [
      "┌ Info: Precompiling HypergraphNB [2dbe4ab3-0c84-4f8d-86d2-f64d6d698dce]\n",
      "└ @ Base loading.jl:1260\n",
      "┌ Warning: Package HypergraphNB does not have StatsBase in its dependencies:\n",
      "│ - If you have HypergraphNB checked out for development and have\n",
      "│   added StatsBase as a dependency but haven't updated your primary\n",
      "│   environment's manifest file, try `Pkg.resolve()`.\n",
      "│ - Otherwise you may need to report an issue with HypergraphNB\n",
      "└ Loading StatsBase into HypergraphNB from project dependency, future warnings for HypergraphNB are suppressed.\n"
     ]
    }
   ],
   "source": [
    "using Revise\n",
    "using HypergraphNB\n",
    "using DataFrames\n",
    "using Clustering\n",
    "using Statistics\n",
    "using RCall\n",
    "using Arpack\n",
    "using Plots\n",
    "using LinearAlgebra\n",
    "using StatsBase\n",
    "using MultivariateStats\n",
    "import Random"
   ]
  },
  {
   "cell_type": "code",
   "execution_count": 127,
   "metadata": {},
   "outputs": [],
   "source": [
    "N = [100, 100, 200]\n",
    "C = [NaN, 5, 2, 5]\n",
    "P = [NaN, 0.9, 0.1, 0.9]\n",
    "\n",
    "z = vcat([repeat([z], N[z]) for z ∈ 1:length(N)]...)\n",
    "n = sum(N)\n",
    "ẑ = rand(1:length(N), n);"
   ]
  },
  {
   "cell_type": "code",
   "execution_count": 128,
   "metadata": {},
   "outputs": [
    {
     "name": "stdout",
     "output_type": "stream",
     "text": [
      "  0.008145 seconds (62.25 k allocations: 5.777 MiB)\n"
     ]
    }
   ],
   "source": [
    "@time H = plantedPartitionHypergraph(N, C, P);"
   ]
  },
  {
   "cell_type": "code",
   "execution_count": 129,
   "metadata": {},
   "outputs": [
    {
     "name": "stdout",
     "output_type": "stream",
     "text": [
      "  2.091005 seconds (74.48 k allocations: 33.164 MiB)\n"
     ]
    }
   ],
   "source": [
    "@time B = reducedBPJacobian(H, ẑ);"
   ]
  },
  {
   "cell_type": "code",
   "execution_count": 130,
   "metadata": {},
   "outputs": [
    {
     "data": {
      "text/plain": [
       "(7200, 7200)"
      ]
     },
     "execution_count": 130,
     "metadata": {},
     "output_type": "execute_result"
    }
   ],
   "source": [
    "size(B)"
   ]
  },
  {
   "cell_type": "code",
   "execution_count": 131,
   "metadata": {},
   "outputs": [
    {
     "name": "stdout",
     "output_type": "stream",
     "text": [
      "  0.025648 seconds (296 allocations: 3.538 MiB)\n"
     ]
    }
   ],
   "source": [
    "@time E = Arpack.eigs(B; nev = 5, ritzvec = true);            "
   ]
  },
  {
   "cell_type": "code",
   "execution_count": 144,
   "metadata": {},
   "outputs": [
    {
     "data": {
      "text/plain": [
       "0.528241428747899"
      ]
     },
     "execution_count": 144,
     "metadata": {},
     "output_type": "execute_result"
    }
   ],
   "source": [
    "V = hcat([HypergraphNB.transform_eigenvector(real.(E[2][:,i]), H) for i ∈ 1:length(N)]...)\n",
    "V = real.(V)\n",
    "V = V .> 0 # experiment\n",
    "clus = Clustering.kmeans(V', length(N))\n",
    "clusters = Clustering.assignments(clus);\n",
    "randindex(clusters, z)[1]"
   ]
  },
  {
   "cell_type": "code",
   "execution_count": null,
   "metadata": {},
   "outputs": [],
   "source": []
  }
 ],
 "metadata": {
  "kernelspec": {
   "display_name": "Julia 1.4.2",
   "language": "julia",
   "name": "julia-1.4"
  },
  "language_info": {
   "file_extension": ".jl",
   "mimetype": "application/julia",
   "name": "julia",
   "version": "1.4.2"
  }
 },
 "nbformat": 4,
 "nbformat_minor": 4
}
