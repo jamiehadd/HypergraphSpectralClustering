{
 "cells": [
  {
   "cell_type": "code",
   "execution_count": 1,
   "metadata": {},
   "outputs": [
    {
     "name": "stderr",
     "output_type": "stream",
     "text": [
      "┌ Info: Precompiling HypergraphNB [2dbe4ab3-0c84-4f8d-86d2-f64d6d698dce]\n",
      "└ @ Base loading.jl:1260\n",
      "┌ Warning: Package HypergraphNB does not have StatsBase in its dependencies:\n",
      "│ - If you have HypergraphNB checked out for development and have\n",
      "│   added StatsBase as a dependency but haven't updated your primary\n",
      "│   environment's manifest file, try `Pkg.resolve()`.\n",
      "│ - Otherwise you may need to report an issue with HypergraphNB\n",
      "└ Loading StatsBase into HypergraphNB from project dependency, future warnings for HypergraphNB are suppressed.\n"
     ]
    }
   ],
   "source": [
    "using Revise\n",
    "using HypergraphNB\n",
    "using DataFrames\n",
    "using Clustering\n",
    "using Statistics\n",
    "using RCall\n",
    "using Arpack\n",
    "using Plots\n",
    "using LinearAlgebra\n",
    "using StatsBase\n",
    "using MultivariateStats\n",
    "import Random"
   ]
  },
  {
   "cell_type": "code",
   "execution_count": 138,
   "metadata": {},
   "outputs": [
    {
     "data": {
      "text/plain": [
       "experiment (generic function with 1 method)"
      ]
     },
     "execution_count": 138,
     "metadata": {},
     "output_type": "execute_result"
    }
   ],
   "source": [
    "function experiment(N, C, P₂, P₃, P₄)\n",
    "    \n",
    "    P2, P3, P4, MI, EV = zeros(0), zeros(0), zeros(0), zeros(0), zeros(0)\n",
    "    \n",
    "    for p₂ ∈ P₂, p₃ ∈ P₃, p₄ ∈ P₄\n",
    "        P = [NaN, p₂, p₃, p₄]\n",
    "        \n",
    "        H = plantedPartitionHypergraph(N, C, P)\n",
    "        \n",
    "        # only used for estimating the degree tensor\n",
    "        z = vcat([repeat([z], N[z]) for z ∈ 1:length(N)]...)\n",
    "        B = reducedBPJacobian(H, z)\n",
    "                \n",
    "        try \n",
    "            E = Arpack.eigs(B; nev = length(N), ritzvec = true)            \n",
    "            V = hcat([HypergraphNB.transform_eigenvector(real.(E[2][:,i]), H) for i ∈ 1:length(N)]...)\n",
    "            V = real.(V)\n",
    "            V = V .> 0 # experiment\n",
    "            clus = Clustering.kmeans(V', 2)\n",
    "            clusters = Clustering.assignments(clus)\n",
    "            \n",
    "            mi = mutualinfo(clusters, z)\n",
    "            append!(P2, p₂)\n",
    "            append!(P3, p₃)\n",
    "            append!(P4, p₄)\n",
    "            append!(MI, mi)\n",
    "        catch e\n",
    "            nothing\n",
    "        end\n",
    "    end\n",
    "    DF = DataFrame(\n",
    "        P_2 = P2, \n",
    "        P_3 = P3,\n",
    "        P_4 = P4,\n",
    "        MI = MI\n",
    "    )\n",
    "    return DF\n",
    "end"
   ]
  },
  {
   "cell_type": "code",
   "execution_count": 148,
   "metadata": {},
   "outputs": [
    {
     "name": "stdout",
     "output_type": "stream",
     "text": [
      "round 1\n",
      "round 2\n",
      "round 3\n",
      "round 4\n",
      "round 5\n",
      "round 6\n",
      "round 7\n",
      "round 8\n",
      "round 9\n",
      "round 10\n"
     ]
    }
   ],
   "source": [
    "n_reps = 10\n",
    "DF = DataFrame()\n",
    "\n",
    "N = [100, 100]\n",
    "C = [NaN, 5, 5, 0]\n",
    "\n",
    "for rep ∈ 1:n_reps\n",
    "    println(\"round $(rep)\")\n",
    "    df = experiment(N, C, 0.0:0.05:1, 0.0:0.05:1, [0]);\n",
    "    append!(DF, df)\n",
    "end"
   ]
  },
  {
   "cell_type": "code",
   "execution_count": 152,
   "metadata": {},
   "outputs": [
    {
     "data": {
      "text/html": [
       "<table class=\"data-frame\"><thead><tr><th></th><th>P_2</th><th>P_3</th><th>P_4</th><th>MI</th></tr><tr><th></th><th>Float64</th><th>Float64</th><th>Float64</th><th>Float64</th></tr></thead><tbody><p>4,313 rows × 4 columns</p><tr><th>1</th><td>0.0</td><td>0.0</td><td>0.0</td><td>1.0</td></tr><tr><th>2</th><td>0.0</td><td>0.05</td><td>0.0</td><td>1.0</td></tr><tr><th>3</th><td>0.0</td><td>0.1</td><td>0.0</td><td>0.888843</td></tr><tr><th>4</th><td>0.0</td><td>0.15</td><td>0.0</td><td>1.0</td></tr><tr><th>5</th><td>0.0</td><td>0.2</td><td>0.0</td><td>1.0</td></tr><tr><th>6</th><td>0.0</td><td>0.25</td><td>0.0</td><td>0.00960026</td></tr><tr><th>7</th><td>0.0</td><td>0.3</td><td>0.0</td><td>1.0</td></tr><tr><th>8</th><td>0.0</td><td>0.35</td><td>0.0</td><td>0.959566</td></tr><tr><th>9</th><td>0.0</td><td>0.4</td><td>0.0</td><td>0.0021096</td></tr><tr><th>10</th><td>0.0</td><td>0.45</td><td>0.0</td><td>0.237836</td></tr><tr><th>11</th><td>0.0</td><td>0.5</td><td>0.0</td><td>0.322312</td></tr><tr><th>12</th><td>0.0</td><td>0.55</td><td>0.0</td><td>0.336503</td></tr><tr><th>13</th><td>0.0</td><td>0.6</td><td>0.0</td><td>0.929125</td></tr><tr><th>14</th><td>0.0</td><td>0.65</td><td>0.0</td><td>0.343711</td></tr><tr><th>15</th><td>0.0</td><td>0.7</td><td>0.0</td><td>0.350998</td></tr><tr><th>16</th><td>0.0</td><td>0.75</td><td>0.0</td><td>0.00115509</td></tr><tr><th>17</th><td>0.0</td><td>0.85</td><td>0.0</td><td>1.0</td></tr><tr><th>18</th><td>0.0</td><td>0.9</td><td>0.0</td><td>0.00354184</td></tr><tr><th>19</th><td>0.0</td><td>0.95</td><td>0.0</td><td>0.00233111</td></tr><tr><th>20</th><td>0.0</td><td>1.0</td><td>0.0</td><td>1.0</td></tr><tr><th>21</th><td>0.05</td><td>0.0</td><td>0.0</td><td>0.959566</td></tr><tr><th>22</th><td>0.05</td><td>0.05</td><td>0.0</td><td>0.832042</td></tr><tr><th>23</th><td>0.05</td><td>0.1</td><td>0.0</td><td>0.858559</td></tr><tr><th>24</th><td>0.05</td><td>0.15</td><td>0.0</td><td>0.785687</td></tr><tr><th>25</th><td>0.05</td><td>0.2</td><td>0.0</td><td>0.959566</td></tr><tr><th>26</th><td>0.05</td><td>0.25</td><td>0.0</td><td>1.0</td></tr><tr><th>27</th><td>0.05</td><td>0.3</td><td>0.0</td><td>0.888843</td></tr><tr><th>28</th><td>0.05</td><td>0.35</td><td>0.0</td><td>0.832042</td></tr><tr><th>29</th><td>0.05</td><td>0.4</td><td>0.0</td><td>0.888843</td></tr><tr><th>30</th><td>0.05</td><td>0.5</td><td>0.0</td><td>3.20759e-16</td></tr><tr><th>&vellip;</th><td>&vellip;</td><td>&vellip;</td><td>&vellip;</td><td>&vellip;</td></tr></tbody></table>"
      ],
      "text/latex": [
       "\\begin{tabular}{r|cccc}\n",
       "\t& P\\_2 & P\\_3 & P\\_4 & MI\\\\\n",
       "\t\\hline\n",
       "\t& Float64 & Float64 & Float64 & Float64\\\\\n",
       "\t\\hline\n",
       "\t1 & 0.0 & 0.0 & 0.0 & 1.0 \\\\\n",
       "\t2 & 0.0 & 0.05 & 0.0 & 1.0 \\\\\n",
       "\t3 & 0.0 & 0.1 & 0.0 & 0.888843 \\\\\n",
       "\t4 & 0.0 & 0.15 & 0.0 & 1.0 \\\\\n",
       "\t5 & 0.0 & 0.2 & 0.0 & 1.0 \\\\\n",
       "\t6 & 0.0 & 0.25 & 0.0 & 0.00960026 \\\\\n",
       "\t7 & 0.0 & 0.3 & 0.0 & 1.0 \\\\\n",
       "\t8 & 0.0 & 0.35 & 0.0 & 0.959566 \\\\\n",
       "\t9 & 0.0 & 0.4 & 0.0 & 0.0021096 \\\\\n",
       "\t10 & 0.0 & 0.45 & 0.0 & 0.237836 \\\\\n",
       "\t11 & 0.0 & 0.5 & 0.0 & 0.322312 \\\\\n",
       "\t12 & 0.0 & 0.55 & 0.0 & 0.336503 \\\\\n",
       "\t13 & 0.0 & 0.6 & 0.0 & 0.929125 \\\\\n",
       "\t14 & 0.0 & 0.65 & 0.0 & 0.343711 \\\\\n",
       "\t15 & 0.0 & 0.7 & 0.0 & 0.350998 \\\\\n",
       "\t16 & 0.0 & 0.75 & 0.0 & 0.00115509 \\\\\n",
       "\t17 & 0.0 & 0.85 & 0.0 & 1.0 \\\\\n",
       "\t18 & 0.0 & 0.9 & 0.0 & 0.00354184 \\\\\n",
       "\t19 & 0.0 & 0.95 & 0.0 & 0.00233111 \\\\\n",
       "\t20 & 0.0 & 1.0 & 0.0 & 1.0 \\\\\n",
       "\t21 & 0.05 & 0.0 & 0.0 & 0.959566 \\\\\n",
       "\t22 & 0.05 & 0.05 & 0.0 & 0.832042 \\\\\n",
       "\t23 & 0.05 & 0.1 & 0.0 & 0.858559 \\\\\n",
       "\t24 & 0.05 & 0.15 & 0.0 & 0.785687 \\\\\n",
       "\t25 & 0.05 & 0.2 & 0.0 & 0.959566 \\\\\n",
       "\t26 & 0.05 & 0.25 & 0.0 & 1.0 \\\\\n",
       "\t27 & 0.05 & 0.3 & 0.0 & 0.888843 \\\\\n",
       "\t28 & 0.05 & 0.35 & 0.0 & 0.832042 \\\\\n",
       "\t29 & 0.05 & 0.4 & 0.0 & 0.888843 \\\\\n",
       "\t30 & 0.05 & 0.5 & 0.0 & 3.20759e-16 \\\\\n",
       "\t$\\dots$ & $\\dots$ & $\\dots$ & $\\dots$ & $\\dots$ \\\\\n",
       "\\end{tabular}\n"
      ],
      "text/plain": [
       "4313×4 DataFrame\n",
       "│ Row  │ P_2     │ P_3     │ P_4     │ MI         │\n",
       "│      │ \u001b[90mFloat64\u001b[39m │ \u001b[90mFloat64\u001b[39m │ \u001b[90mFloat64\u001b[39m │ \u001b[90mFloat64\u001b[39m    │\n",
       "├──────┼─────────┼─────────┼─────────┼────────────┤\n",
       "│ 1    │ 0.0     │ 0.0     │ 0.0     │ 1.0        │\n",
       "│ 2    │ 0.0     │ 0.05    │ 0.0     │ 1.0        │\n",
       "│ 3    │ 0.0     │ 0.1     │ 0.0     │ 0.888843   │\n",
       "│ 4    │ 0.0     │ 0.15    │ 0.0     │ 1.0        │\n",
       "│ 5    │ 0.0     │ 0.2     │ 0.0     │ 1.0        │\n",
       "│ 6    │ 0.0     │ 0.25    │ 0.0     │ 0.00960026 │\n",
       "│ 7    │ 0.0     │ 0.3     │ 0.0     │ 1.0        │\n",
       "│ 8    │ 0.0     │ 0.35    │ 0.0     │ 0.959566   │\n",
       "│ 9    │ 0.0     │ 0.4     │ 0.0     │ 0.0021096  │\n",
       "│ 10   │ 0.0     │ 0.45    │ 0.0     │ 0.237836   │\n",
       "⋮\n",
       "│ 4303 │ 1.0     │ 0.5     │ 0.0     │ 1.0        │\n",
       "│ 4304 │ 1.0     │ 0.55    │ 0.0     │ 0.959566   │\n",
       "│ 4305 │ 1.0     │ 0.6     │ 0.0     │ 1.0        │\n",
       "│ 4306 │ 1.0     │ 0.65    │ 0.0     │ 1.0        │\n",
       "│ 4307 │ 1.0     │ 0.7     │ 0.0     │ 1.0        │\n",
       "│ 4308 │ 1.0     │ 0.75    │ 0.0     │ 0.959566   │\n",
       "│ 4309 │ 1.0     │ 0.8     │ 0.0     │ 1.0        │\n",
       "│ 4310 │ 1.0     │ 0.85    │ 0.0     │ 1.0        │\n",
       "│ 4311 │ 1.0     │ 0.9     │ 0.0     │ 1.0        │\n",
       "│ 4312 │ 1.0     │ 0.95    │ 0.0     │ 0.959566   │\n",
       "│ 4313 │ 1.0     │ 1.0     │ 0.0     │ 1.0        │"
      ]
     },
     "execution_count": 152,
     "metadata": {},
     "output_type": "execute_result"
    }
   ],
   "source": [
    "DF"
   ]
  },
  {
   "cell_type": "code",
   "execution_count": 153,
   "metadata": {},
   "outputs": [
    {
     "name": "stderr",
     "output_type": "stream",
     "text": [
      "┌ Warning: RCall.jl: `summarise()` regrouping output by 'P_2', 'P_3' (override with `.groups` argument)\n",
      "└ @ RCall /home/phil/.julia/packages/RCall/Qzssx/src/io.jl:160\n"
     ]
    },
    {
     "data": {
      "image/png": "[encoded data removed]"
     },
     "metadata": {},
     "output_type": "display_data"
    },
    {
     "data": {
      "text/plain": [
       "RObject{VecSxp}\n"
      ]
     },
     "execution_count": 153,
     "metadata": {},
     "output_type": "execute_result"
    }
   ],
   "source": [
    "R\"\"\"\n",
    "library(tidyverse)\n",
    "library(viridis)\n",
    "\n",
    "df <- $DF %>%\n",
    "    group_by(P_2, P_3, P_4) %>% \n",
    "    summarise(MI = mean(MI, na.rm = T))\n",
    "\n",
    "p <- df %>% \n",
    "    ggplot() + \n",
    "    aes(x = P_3, y = P_4, fill = MI) + \n",
    "    geom_tile() + \n",
    "    theme_bw() + \n",
    "    scale_fill_viridis(option = \"inferno\", limits = c(0, 1)) + \n",
    "    scale_x_continuous(expand = c(0,0)) + \n",
    "    scale_y_continuous(expand = c(0,0)) + \n",
    "    xlab(expression(p[3])) + \n",
    "    ylab(expression(p[4])) + \n",
    "    theme(strip.background = element_blank(),\n",
    "          panel.spacing.x = unit(8, \"mm\"),\n",
    "          strip.text = element_text(size = 10)) +\n",
    "    coord_fixed() +\n",
    "    facet_wrap(~P_2)\n",
    "\"\"\""
   ]
  },
  {
   "cell_type": "code",
   "execution_count": 154,
   "metadata": {},
   "outputs": [
    {
     "name": "stderr",
     "output_type": "stream",
     "text": [
      "┌ Warning: RCall.jl: `summarise()` regrouping output by 'P_2', 'P_3' (override with `.groups` argument)\n",
      "└ @ RCall /home/phil/.julia/packages/RCall/Qzssx/src/io.jl:160\n"
     ]
    },
    {
     "data": {
      "image/png": "[encoded data removed]"
     },
     "metadata": {},
     "output_type": "display_data"
    },
    {
     "data": {
      "text/plain": [
       "RObject{VecSxp}\n"
      ]
     },
     "execution_count": 154,
     "metadata": {},
     "output_type": "execute_result"
    }
   ],
   "source": [
    "R\"\"\"\n",
    "\n",
    "df <- $DF %>%\n",
    "    group_by(P_2, P_3, P_4) %>% \n",
    "    summarise(MI = mean(MI, na.rm = T))\n",
    "\n",
    "p <- df %>% \n",
    "    ggplot() + \n",
    "    aes(x = P_2, y = P_3, fill = MI) + \n",
    "    geom_tile() + \n",
    "    theme_bw() + \n",
    "    scale_fill_viridis(option = \"inferno\", limits = c(0, 1)) + \n",
    "    scale_x_continuous(expand = c(0,0)) + \n",
    "    scale_y_continuous(expand = c(0,0)) + \n",
    "    xlab(expression(p[2])) + \n",
    "    ylab(expression(p[3])) + \n",
    "    theme(strip.background = element_blank(),\n",
    "          panel.spacing.x = unit(8, \"mm\"),\n",
    "          strip.text = element_text(size = 10)) +\n",
    "    coord_fixed() +\n",
    "    facet_wrap(~P_4)\n",
    "\"\"\""
   ]
  },
  {
   "cell_type": "code",
   "execution_count": null,
   "metadata": {},
   "outputs": [],
   "source": []
  }
 ],
 "metadata": {
  "kernelspec": {
   "display_name": "Julia 1.4.2",
   "language": "julia",
   "name": "julia-1.4"
  },
  "language_info": {
   "file_extension": ".jl",
   "mimetype": "application/julia",
   "name": "julia",
   "version": "1.4.2"
  }
 },
 "nbformat": 4,
 "nbformat_minor": 4
}
